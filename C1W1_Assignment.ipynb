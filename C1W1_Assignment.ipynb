{
 "cells": [
  {
   "cell_type": "markdown",
   "metadata": {
    "colab_type": "text",
    "id": "ZL_6GK8qX35J"
   },
   "source": [
    "\n",
    "\n",
    "# Week 1: Multiple Output Models using the Keras Functional API\n",
    "\n",
    "Welcome to the first programming assignment of the course! Your task will be to use the Keras functional API to train a model to predict two outputs. For this lab, you will use the **[Wine Quality Dataset](https://archive.ics.uci.edu/ml/datasets/Wine+Quality)** from the **UCI machine learning repository**. It has separate datasets for red wine and white wine.\n",
    "\n",
    "Normally, the wines are classified into one of the quality ratings specified in the attributes. In this exercise, you will combine the two datasets to predict the wine quality and whether the wine is red or white solely from the attributes. \n",
    "\n",
    "You will model wine quality estimations as a regression problem and wine type detection as a binary classification problem.\n",
    "\n",
    "#### Please complete sections that are marked **(TODO)**"
   ]
  },
  {
   "cell_type": "markdown",
   "metadata": {
    "colab_type": "text",
    "id": "obdcD6urYBY9"
   },
   "source": [
    "## Imports"
   ]
  },
  {
   "cell_type": "code",
   "execution_count": 1,
   "metadata": {
    "colab": {},
    "colab_type": "code",
    "id": "t8N3pcTQ5oQI"
   },
   "outputs": [],
   "source": [
    "import tensorflow as tf\n",
    "from tensorflow.keras.models import Model\n",
    "from tensorflow.keras.layers import Dense, Input\n",
    "\n",
    "import numpy as np\n",
    "import matplotlib.pyplot as plt\n",
    "import pandas as pd\n",
    "from sklearn.model_selection import train_test_split\n",
    "from sklearn.metrics import confusion_matrix\n",
    "import itertools\n",
    "\n",
    "import utils"
   ]
  },
  {
   "cell_type": "markdown",
   "metadata": {
    "colab_type": "text",
    "id": "gQMERzWQYpgm"
   },
   "source": [
    "## Load Dataset\n",
    "\n",
    "\n",
    "You will now download the dataset from the [UCI Machine Learning Repository](https://archive.ics.uci.edu/ml/index.php). \n",
    "\n",
    "### Pre-process the white wine dataset (TODO)\n",
    "You will add a new column named `is_red` in your dataframe to indicate if the wine is white or red. \n",
    "- In the white wine dataset, you will fill the column `is_red` with  zeros (0)."
   ]
  },
  {
   "cell_type": "code",
   "execution_count": 5,
   "metadata": {
    "colab": {},
    "colab_type": "code",
    "deletable": false,
    "id": "2qYAjKXCd4RH",
    "nbgrader": {
     "cell_type": "code",
     "checksum": "cb9f284ba6255170fe04a309a407d72d",
     "grade": false,
     "grade_id": "cell-e5bfa0f152d9a21f",
     "locked": false,
     "schema_version": 3,
     "solution": true,
     "task": false
    }
   },
   "outputs": [],
   "source": [
    "## Please uncomment all lines in this cell and replace those marked with `# YOUR CODE HERE`.\n",
    "## You can select all lines in this code cell with Ctrl+A (Windows/Linux) or Cmd+A (Mac), then press Ctrl+/ (Windows/Linux) or Cmd+/ (Mac) to uncomment.\n",
    "\n",
    "\n",
    "\n",
    "# URL of the white wine dataset\n",
    "URL = 'http://archive.ics.uci.edu/ml/machine-learning-databases/wine-quality/winequality-white.csv'\n",
    "\n",
    "# load the dataset from the URL\n",
    "white_df = pd.read_csv(URL, sep=\";\")\n",
    "\n",
    "# fill the `is_red` column with zeros.\n",
    "white_df[\"is_red\"] = 0\n",
    "\n",
    "# keep only the first of duplicate items\n",
    "white_df = white_df.drop_duplicates(keep='first')\n"
   ]
  },
  {
   "cell_type": "code",
   "execution_count": 6,
   "metadata": {
    "deletable": false,
    "editable": false,
    "nbgrader": {
     "cell_type": "code",
     "checksum": "defe38d6ec58fd31cd67b89e46c4373f",
     "grade": true,
     "grade_id": "cell-30575e713b55fc51",
     "locked": true,
     "points": 1,
     "schema_version": 3,
     "solution": false,
     "task": false
    }
   },
   "outputs": [
    {
     "name": "stdout",
     "output_type": "stream",
     "text": [
      "\u001b[92m All public tests passed\n"
     ]
    }
   ],
   "source": [
    "# You can click `File -> Open` in the menu above and open the `utils.py` file \n",
    "# in case you want to inspect the unit tests being used for each graded function.\n",
    "\n",
    "utils.test_white_df(white_df)\n"
   ]
  },
  {
   "cell_type": "code",
   "execution_count": 7,
   "metadata": {
    "colab": {},
    "colab_type": "code",
    "id": "OQHK0ohBQRCk"
   },
   "outputs": [
    {
     "name": "stdout",
     "output_type": "stream",
     "text": [
      "8.8\n",
      "9.1\n"
     ]
    }
   ],
   "source": [
    "print(white_df.alcohol[0])\n",
    "print(white_df.alcohol[100])\n",
    "\n",
    "# EXPECTED OUTPUT\n",
    "# 8.8\n",
    "# 9.1"
   ]
  },
  {
   "cell_type": "markdown",
   "metadata": {},
   "source": [
    "### Pre-process the red wine dataset (TODO)\n",
    "- In the red wine dataset, you will fill in the column `is_red` with ones (1)."
   ]
  },
  {
   "cell_type": "code",
   "execution_count": 8,
   "metadata": {
    "colab": {},
    "colab_type": "code",
    "deletable": false,
    "id": "8y3QxKwBed8v",
    "nbgrader": {
     "cell_type": "code",
     "checksum": "be72275f78e2c2d0038dde9aa63f8d4f",
     "grade": false,
     "grade_id": "cell-e47a40f306593274",
     "locked": false,
     "schema_version": 3,
     "solution": true,
     "task": false
    }
   },
   "outputs": [],
   "source": [
    "## Please uncomment all lines in this cell and replace those marked with `# YOUR CODE HERE`.\n",
    "## You can select all lines in this code cell with Ctrl+A (Windows/Linux) or Cmd+A (Mac), then press Ctrl+/ (Windows/Linux) or Cmd+/ (Mac) to uncomment.\n",
    "\n",
    "\n",
    "\n",
    "# URL of the red wine dataset\n",
    "URL = 'http://archive.ics.uci.edu/ml/machine-learning-databases/wine-quality/winequality-red.csv'\n",
    "\n",
    "# load the dataset from the URL\n",
    "red_df = pd.read_csv(URL, sep=\";\")\n",
    "\n",
    "# fill the `is_red` column with ones.\n",
    "red_df[\"is_red\"] = 1\n",
    "\n",
    "# keep only the first of duplicate items\n",
    "red_df = red_df.drop_duplicates(keep='first')\n"
   ]
  },
  {
   "cell_type": "code",
   "execution_count": 9,
   "metadata": {
    "deletable": false,
    "editable": false,
    "nbgrader": {
     "cell_type": "code",
     "checksum": "d8e0c91b0fd668b63ba74a8f2f958b59",
     "grade": true,
     "grade_id": "cell-2a75937adcc0c25b",
     "locked": true,
     "points": 1,
     "schema_version": 3,
     "solution": false,
     "task": false
    }
   },
   "outputs": [
    {
     "name": "stdout",
     "output_type": "stream",
     "text": [
      "\u001b[92m All public tests passed\n"
     ]
    }
   ],
   "source": [
    "utils.test_red_df(red_df)\n"
   ]
  },
  {
   "cell_type": "code",
   "execution_count": 10,
   "metadata": {
    "colab": {},
    "colab_type": "code",
    "id": "zsB3LUzNQpo_"
   },
   "outputs": [
    {
     "name": "stdout",
     "output_type": "stream",
     "text": [
      "9.4\n",
      "10.2\n"
     ]
    }
   ],
   "source": [
    "print(red_df.alcohol[0])\n",
    "print(red_df.alcohol[100])\n",
    "\n",
    "# EXPECTED OUTPUT\n",
    "# 9.4\n",
    "# 10.2"
   ]
  },
  {
   "cell_type": "markdown",
   "metadata": {
    "colab_type": "text",
    "id": "2G8B-NYuM6-f"
   },
   "source": [
    "### Concatenate the datasets\n",
    "\n",
    "Next, concatenate the red and white wine dataframes."
   ]
  },
  {
   "cell_type": "code",
   "execution_count": 11,
   "metadata": {
    "colab": {},
    "colab_type": "code",
    "id": "YpQrOjJbfN3m"
   },
   "outputs": [],
   "source": [
    "df = pd.concat([red_df, white_df], ignore_index=True)"
   ]
  },
  {
   "cell_type": "code",
   "execution_count": 12,
   "metadata": {
    "colab": {},
    "colab_type": "code",
    "id": "Se2dTmThQyjb"
   },
   "outputs": [
    {
     "name": "stdout",
     "output_type": "stream",
     "text": [
      "9.4\n",
      "9.5\n"
     ]
    }
   ],
   "source": [
    "print(df.alcohol[0])\n",
    "print(df.alcohol[100])\n",
    "\n",
    "# EXPECTED OUTPUT\n",
    "# 9.4\n",
    "# 9.5"
   ]
  },
  {
   "cell_type": "code",
   "execution_count": 13,
   "metadata": {
    "colab": {},
    "colab_type": "code",
    "id": "wx6y3rPpQv4k"
   },
   "outputs": [],
   "source": [
    "# NOTE: In a real-world scenario, you should shuffle the data.\n",
    "# YOU ARE NOT going to do that here because we want to test\n",
    "# with deterministic data. But if you want the code to do it,\n",
    "# it's in the commented line below:\n",
    "\n",
    "#df = df.iloc[np.random.permutation(len(df))]"
   ]
  },
  {
   "cell_type": "markdown",
   "metadata": {
    "colab_type": "text",
    "id": "-EqIcbg5M_n1"
   },
   "source": [
    "This will chart the quality of the wines."
   ]
  },
  {
   "cell_type": "code",
   "execution_count": 14,
   "metadata": {
    "colab": {},
    "colab_type": "code",
    "id": "IsvK0-Sgy17C"
   },
   "outputs": [
    {
     "data": {
      "image/png": "[encoded data removed]",
      "text/plain": [
       "<Figure size 432x288 with 1 Axes>"
      ]
     },
     "metadata": {
      "needs_background": "light"
     },
     "output_type": "display_data"
    }
   ],
   "source": [
    "df['quality'].hist(bins=20);"
   ]
  },
  {
   "cell_type": "markdown",
   "metadata": {
    "colab_type": "text",
    "id": "Nut1rmYLzf-p"
   },
   "source": [
    "### Imbalanced data (TODO)\n",
    "You can see from the plot above that the wine quality dataset is imbalanced. \n",
    "- Since there are very few observations with quality equal to 3, 4, 8 and 9, you can drop these observations from your dataset. \n",
    "- You can do this by removing data belonging to all classes except those > 4 and < 8."
   ]
  },
  {
   "cell_type": "code",
   "execution_count": 15,
   "metadata": {
    "colab": {},
    "colab_type": "code",
    "deletable": false,
    "id": "doH9_-gnf3sz",
    "nbgrader": {
     "cell_type": "code",
     "checksum": "d9ba9fc3a3ca02ccc567be33652b80fe",
     "grade": false,
     "grade_id": "cell-6a3e9db696f6827b",
     "locked": false,
     "schema_version": 3,
     "solution": true,
     "task": false
    }
   },
   "outputs": [],
   "source": [
    "## Please uncomment all lines in this cell and replace those marked with `# YOUR CODE HERE`.\n",
    "## You can select all lines in this code cell with Ctrl+A (Windows/Linux) or Cmd+A (Mac), then press Ctrl+/ (Windows/Linux) or Cmd+/ (Mac) to uncomment.\n",
    "\n",
    "\n",
    "\n",
    "# get data with wine quality greater than 4 and less than 8\n",
    "df = df[(df['quality'] >  4) & (df['quality'] < 8)]\n",
    "\n",
    "# reset index and drop the old one\n",
    "df = df.reset_index(drop=True)"
   ]
  },
  {
   "cell_type": "code",
   "execution_count": 16,
   "metadata": {
    "deletable": false,
    "editable": false,
    "nbgrader": {
     "cell_type": "code",
     "checksum": "281e1d86a4803560ed5892cd7eda4c01",
     "grade": true,
     "grade_id": "cell-aed3da719d4682c7",
     "locked": true,
     "points": 1,
     "schema_version": 3,
     "solution": false,
     "task": false
    }
   },
   "outputs": [
    {
     "name": "stdout",
     "output_type": "stream",
     "text": [
      "\u001b[92m All public tests passed\n"
     ]
    }
   ],
   "source": [
    "utils.test_df_drop(df)\n",
    "\n"
   ]
  },
  {
   "cell_type": "code",
   "execution_count": 17,
   "metadata": {
    "colab": {},
    "colab_type": "code",
    "id": "xNR1iAlMRPXO"
   },
   "outputs": [
    {
     "name": "stdout",
     "output_type": "stream",
     "text": [
      "9.4\n",
      "10.9\n"
     ]
    }
   ],
   "source": [
    "print(df.alcohol[0])\n",
    "print(df.alcohol[100])\n",
    "\n",
    "# EXPECTED OUTPUT\n",
    "# 9.4\n",
    "# 10.9"
   ]
  },
  {
   "cell_type": "markdown",
   "metadata": {
    "colab_type": "text",
    "id": "cwhuRpnVRTzG"
   },
   "source": [
    "You can plot again to see the new range of data and quality"
   ]
  },
  {
   "cell_type": "code",
   "execution_count": 18,
   "metadata": {
    "colab": {},
    "colab_type": "code",
    "id": "857ygzZiLgGg"
   },
   "outputs": [
    {
     "data": {
      "image/png": "[encoded data removed]",
      "text/plain": [
       "<Figure size 432x288 with 1 Axes>"
      ]
     },
     "metadata": {
      "needs_background": "light"
     },
     "output_type": "display_data"
    }
   ],
   "source": [
    "df['quality'].hist(bins=20);"
   ]
  },
  {
   "cell_type": "markdown",
   "metadata": {
    "colab_type": "text",
    "id": "n3k0vqSsp84t"
   },
   "source": [
    "### Train Test Split (TODO)\n",
    "\n",
    "Next, you can split the datasets into training, test and validation datasets.\n",
    "- The data frame should be split 80:20 into `train` and `test` sets.\n",
    "- The resulting `train` should then be split 80:20 into `train` and `val` sets.\n",
    "- The `train_test_split` parameter `test_size` takes a float value that ranges between 0. and 1, and represents the proportion of the dataset that is allocated to the test set.  The rest of the data is allocated to the training set."
   ]
  },
  {
   "cell_type": "code",
   "execution_count": 19,
   "metadata": {
    "colab": {},
    "colab_type": "code",
    "deletable": false,
    "id": "PAVIf2-fgRVY",
    "nbgrader": {
     "cell_type": "code",
     "checksum": "7f5738f4fb51d65adc9a8acbdf2b9970",
     "grade": false,
     "grade_id": "cell-91946cadf745206b",
     "locked": false,
     "schema_version": 3,
     "solution": true,
     "task": false
    }
   },
   "outputs": [],
   "source": [
    "## Please uncomment all lines in this cell and replace those marked with `# YOUR CODE HERE`.\n",
    "## You can select all lines in this code cell with Ctrl+A (Windows/Linux) or Cmd+A (Mac), then press Ctrl+/ (Windows/Linux) or Cmd+/ (Mac) to uncomment.\n",
    "\n",
    "\n",
    "\n",
    "# Please do not change the random_state parameter. This is needed for grading.\n",
    "\n",
    "# split df into 80:20 train and test sets\n",
    "train, test = train_test_split(df, test_size= 0.2, random_state = 1)\n",
    "                               \n",
    "# split train into 80:20 train and val sets\n",
    "train, val = train_test_split(train, test_size= 0.2, random_state = 1)"
   ]
  },
  {
   "cell_type": "code",
   "execution_count": 20,
   "metadata": {
    "colab": {},
    "colab_type": "code",
    "deletable": false,
    "editable": false,
    "id": "57h9LcEzRWpk",
    "nbgrader": {
     "cell_type": "code",
     "checksum": "42adbe9e66efac7c7a5f8cd73ac92f22",
     "grade": true,
     "grade_id": "cell-64b8b38cd0b965f6",
     "locked": true,
     "points": 1,
     "schema_version": 3,
     "solution": false,
     "task": false
    }
   },
   "outputs": [
    {
     "name": "stdout",
     "output_type": "stream",
     "text": [
      "\u001b[92m All public tests passed\n"
     ]
    }
   ],
   "source": [
    "utils.test_data_sizes(train.size, test.size, val.size)\n",
    "\n"
   ]
  },
  {
   "cell_type": "markdown",
   "metadata": {
    "colab_type": "text",
    "id": "RwTNu4KFqG-K"
   },
   "source": [
    "Here's where you can explore the training stats. You can pop the labels 'is_red' and 'quality' from the data as these will be used as the labels\n"
   ]
  },
  {
   "cell_type": "code",
   "execution_count": 21,
   "metadata": {
    "colab": {},
    "colab_type": "code",
    "id": "Y_afyhhHM6WQ"
   },
   "outputs": [],
   "source": [
    "train_stats = train.describe()\n",
    "train_stats.pop('is_red')\n",
    "train_stats.pop('quality')\n",
    "train_stats = train_stats.transpose()"
   ]
  },
  {
   "cell_type": "markdown",
   "metadata": {
    "colab_type": "text",
    "id": "ahvbYm4fNqSt"
   },
   "source": [
    "Explore the training stats!"
   ]
  },
  {
   "cell_type": "code",
   "execution_count": 22,
   "metadata": {
    "colab": {},
    "colab_type": "code",
    "id": "n_gAtPjZ0otF"
   },
   "outputs": [
    {
     "data": {
      "text/html": [
       "<div>\n",
       "<style scoped>\n",
       "    .dataframe tbody tr th:only-of-type {\n",
       "        vertical-align: middle;\n",
       "    }\n",
       "\n",
       "    .dataframe tbody tr th {\n",
       "        vertical-align: top;\n",
       "    }\n",
       "\n",
       "    .dataframe thead th {\n",
       "        text-align: right;\n",
       "    }\n",
       "</style>\n",
       "<table border=\"1\" class=\"dataframe\">\n",
       "  <thead>\n",
       "    <tr style=\"text-align: right;\">\n",
       "      <th></th>\n",
       "      <th>count</th>\n",
       "      <th>mean</th>\n",
       "      <th>std</th>\n",
       "      <th>min</th>\n",
       "      <th>25%</th>\n",
       "      <th>50%</th>\n",
       "      <th>75%</th>\n",
       "      <th>max</th>\n",
       "    </tr>\n",
       "  </thead>\n",
       "  <tbody>\n",
       "    <tr>\n",
       "      <th>fixed acidity</th>\n",
       "      <td>3155.0</td>\n",
       "      <td>7.221616</td>\n",
       "      <td>1.325297</td>\n",
       "      <td>3.80000</td>\n",
       "      <td>6.40000</td>\n",
       "      <td>7.00000</td>\n",
       "      <td>7.7000</td>\n",
       "      <td>15.60000</td>\n",
       "    </tr>\n",
       "    <tr>\n",
       "      <th>volatile acidity</th>\n",
       "      <td>3155.0</td>\n",
       "      <td>0.338929</td>\n",
       "      <td>0.162476</td>\n",
       "      <td>0.08000</td>\n",
       "      <td>0.23000</td>\n",
       "      <td>0.29000</td>\n",
       "      <td>0.4000</td>\n",
       "      <td>1.24000</td>\n",
       "    </tr>\n",
       "    <tr>\n",
       "      <th>citric acid</th>\n",
       "      <td>3155.0</td>\n",
       "      <td>0.321569</td>\n",
       "      <td>0.147970</td>\n",
       "      <td>0.00000</td>\n",
       "      <td>0.25000</td>\n",
       "      <td>0.31000</td>\n",
       "      <td>0.4000</td>\n",
       "      <td>1.66000</td>\n",
       "    </tr>\n",
       "    <tr>\n",
       "      <th>residual sugar</th>\n",
       "      <td>3155.0</td>\n",
       "      <td>5.155911</td>\n",
       "      <td>4.639632</td>\n",
       "      <td>0.60000</td>\n",
       "      <td>1.80000</td>\n",
       "      <td>2.80000</td>\n",
       "      <td>7.6500</td>\n",
       "      <td>65.80000</td>\n",
       "    </tr>\n",
       "    <tr>\n",
       "      <th>chlorides</th>\n",
       "      <td>3155.0</td>\n",
       "      <td>0.056976</td>\n",
       "      <td>0.036802</td>\n",
       "      <td>0.01200</td>\n",
       "      <td>0.03800</td>\n",
       "      <td>0.04700</td>\n",
       "      <td>0.0660</td>\n",
       "      <td>0.61100</td>\n",
       "    </tr>\n",
       "    <tr>\n",
       "      <th>free sulfur dioxide</th>\n",
       "      <td>3155.0</td>\n",
       "      <td>30.388590</td>\n",
       "      <td>17.236784</td>\n",
       "      <td>1.00000</td>\n",
       "      <td>17.00000</td>\n",
       "      <td>28.00000</td>\n",
       "      <td>41.0000</td>\n",
       "      <td>131.00000</td>\n",
       "    </tr>\n",
       "    <tr>\n",
       "      <th>total sulfur dioxide</th>\n",
       "      <td>3155.0</td>\n",
       "      <td>115.062282</td>\n",
       "      <td>56.706617</td>\n",
       "      <td>6.00000</td>\n",
       "      <td>75.00000</td>\n",
       "      <td>117.00000</td>\n",
       "      <td>156.0000</td>\n",
       "      <td>344.00000</td>\n",
       "    </tr>\n",
       "    <tr>\n",
       "      <th>density</th>\n",
       "      <td>3155.0</td>\n",
       "      <td>0.994633</td>\n",
       "      <td>0.003005</td>\n",
       "      <td>0.98711</td>\n",
       "      <td>0.99232</td>\n",
       "      <td>0.99481</td>\n",
       "      <td>0.9968</td>\n",
       "      <td>1.03898</td>\n",
       "    </tr>\n",
       "    <tr>\n",
       "      <th>pH</th>\n",
       "      <td>3155.0</td>\n",
       "      <td>3.223201</td>\n",
       "      <td>0.161272</td>\n",
       "      <td>2.72000</td>\n",
       "      <td>3.11000</td>\n",
       "      <td>3.21000</td>\n",
       "      <td>3.3300</td>\n",
       "      <td>4.01000</td>\n",
       "    </tr>\n",
       "    <tr>\n",
       "      <th>sulphates</th>\n",
       "      <td>3155.0</td>\n",
       "      <td>0.534051</td>\n",
       "      <td>0.149149</td>\n",
       "      <td>0.22000</td>\n",
       "      <td>0.43000</td>\n",
       "      <td>0.51000</td>\n",
       "      <td>0.6000</td>\n",
       "      <td>1.95000</td>\n",
       "    </tr>\n",
       "    <tr>\n",
       "      <th>alcohol</th>\n",
       "      <td>3155.0</td>\n",
       "      <td>10.504466</td>\n",
       "      <td>1.154654</td>\n",
       "      <td>8.50000</td>\n",
       "      <td>9.50000</td>\n",
       "      <td>10.30000</td>\n",
       "      <td>11.3000</td>\n",
       "      <td>14.00000</td>\n",
       "    </tr>\n",
       "  </tbody>\n",
       "</table>\n",
       "</div>"
      ],
      "text/plain": [
       "                       count        mean        std      min       25%  \\\n",
       "fixed acidity         3155.0    7.221616   1.325297  3.80000   6.40000   \n",
       "volatile acidity      3155.0    0.338929   0.162476  0.08000   0.23000   \n",
       "citric acid           3155.0    0.321569   0.147970  0.00000   0.25000   \n",
       "residual sugar        3155.0    5.155911   4.639632  0.60000   1.80000   \n",
       "chlorides             3155.0    0.056976   0.036802  0.01200   0.03800   \n",
       "free sulfur dioxide   3155.0   30.388590  17.236784  1.00000  17.00000   \n",
       "total sulfur dioxide  3155.0  115.062282  56.706617  6.00000  75.00000   \n",
       "density               3155.0    0.994633   0.003005  0.98711   0.99232   \n",
       "pH                    3155.0    3.223201   0.161272  2.72000   3.11000   \n",
       "sulphates             3155.0    0.534051   0.149149  0.22000   0.43000   \n",
       "alcohol               3155.0   10.504466   1.154654  8.50000   9.50000   \n",
       "\n",
       "                            50%       75%        max  \n",
       "fixed acidity           7.00000    7.7000   15.60000  \n",
       "volatile acidity        0.29000    0.4000    1.24000  \n",
       "citric acid             0.31000    0.4000    1.66000  \n",
       "residual sugar          2.80000    7.6500   65.80000  \n",
       "chlorides               0.04700    0.0660    0.61100  \n",
       "free sulfur dioxide    28.00000   41.0000  131.00000  \n",
       "total sulfur dioxide  117.00000  156.0000  344.00000  \n",
       "density                 0.99481    0.9968    1.03898  \n",
       "pH                      3.21000    3.3300    4.01000  \n",
       "sulphates               0.51000    0.6000    1.95000  \n",
       "alcohol                10.30000   11.3000   14.00000  "
      ]
     },
     "execution_count": 22,
     "metadata": {},
     "output_type": "execute_result"
    }
   ],
   "source": [
    "train_stats"
   ]
  },
  {
   "cell_type": "markdown",
   "metadata": {
    "colab_type": "text",
    "id": "bGPvt9jir_HC"
   },
   "source": [
    "### Get the labels (TODO)\n",
    "\n",
    "The features and labels are currently in the same dataframe.\n",
    "- You will want to store the label columns `is_red` and `quality` separately from the feature columns.  \n",
    "- The following function, `format_output`, gets these two columns from the dataframe (it's given to you).\n",
    "- `format_output` also formats the data into numpy arrays. \n",
    "- Please use the `format_output` and apply it to the `train`, `val` and `test` sets to get dataframes for the labels."
   ]
  },
  {
   "cell_type": "code",
   "execution_count": 23,
   "metadata": {
    "colab": {},
    "colab_type": "code",
    "id": "Z_fs14XQqZVP"
   },
   "outputs": [],
   "source": [
    "def format_output(data):\n",
    "    is_red = data.pop('is_red')\n",
    "    is_red = np.array(is_red)\n",
    "    quality = data.pop('quality')\n",
    "    quality = np.array(quality)\n",
    "    return (quality, is_red)"
   ]
  },
  {
   "cell_type": "code",
   "execution_count": 25,
   "metadata": {
    "colab": {},
    "colab_type": "code",
    "deletable": false,
    "id": "8L3ZZe1fQicm",
    "nbgrader": {
     "cell_type": "code",
     "checksum": "7a86809e54895a816434c48dc903f55d",
     "grade": false,
     "grade_id": "cell-5c30fa2c2a354b0f",
     "locked": false,
     "schema_version": 3,
     "solution": true,
     "task": false
    }
   },
   "outputs": [],
   "source": [
    "## Please uncomment all lines in this cell and replace those marked with `# YOUR CODE HERE`.\n",
    "## You can select all lines in this code cell with Ctrl+A (Windows/Linux) or Cmd+A (Mac), then press Ctrl+/ (Windows/Linux) or Cmd+/ (Mac) to uncomment.\n",
    "\n",
    "\n",
    "\n",
    "# format the output of the train set\n",
    "train_Y = format_output(train)\n",
    "\n",
    "# format the output of the val set\n",
    "val_Y = format_output(val)\n",
    "    \n",
    "# format the output of the test set\n",
    "test_Y = format_output(test)"
   ]
  },
  {
   "cell_type": "code",
   "execution_count": 26,
   "metadata": {
    "deletable": false,
    "editable": false,
    "nbgrader": {
     "cell_type": "code",
     "checksum": "359cabbafaed14ec9bbc1e57a7b6f32c",
     "grade": true,
     "grade_id": "cell-4977d8befb80f56b",
     "locked": true,
     "points": 1,
     "schema_version": 3,
     "solution": false,
     "task": false
    }
   },
   "outputs": [
    {
     "name": "stdout",
     "output_type": "stream",
     "text": [
      "\u001b[92m All public tests passed\n"
     ]
    }
   ],
   "source": [
    "utils.test_format_output(df, train_Y, val_Y, test_Y)"
   ]
  },
  {
   "cell_type": "markdown",
   "metadata": {},
   "source": [
    "Notice that after you get the labels, the `train`, `val` and `test` dataframes no longer contain the label columns, and contain just the feature columns.\n",
    "- This is because you used `.pop` in the `format_output` function."
   ]
  },
  {
   "cell_type": "code",
   "execution_count": 27,
   "metadata": {},
   "outputs": [
    {
     "data": {
      "text/html": [
       "<div>\n",
       "<style scoped>\n",
       "    .dataframe tbody tr th:only-of-type {\n",
       "        vertical-align: middle;\n",
       "    }\n",
       "\n",
       "    .dataframe tbody tr th {\n",
       "        vertical-align: top;\n",
       "    }\n",
       "\n",
       "    .dataframe thead th {\n",
       "        text-align: right;\n",
       "    }\n",
       "</style>\n",
       "<table border=\"1\" class=\"dataframe\">\n",
       "  <thead>\n",
       "    <tr style=\"text-align: right;\">\n",
       "      <th></th>\n",
       "      <th>fixed acidity</th>\n",
       "      <th>volatile acidity</th>\n",
       "      <th>citric acid</th>\n",
       "      <th>residual sugar</th>\n",
       "      <th>chlorides</th>\n",
       "      <th>free sulfur dioxide</th>\n",
       "      <th>total sulfur dioxide</th>\n",
       "      <th>density</th>\n",
       "      <th>pH</th>\n",
       "      <th>sulphates</th>\n",
       "      <th>alcohol</th>\n",
       "    </tr>\n",
       "  </thead>\n",
       "  <tbody>\n",
       "    <tr>\n",
       "      <th>225</th>\n",
       "      <td>7.5</td>\n",
       "      <td>0.65</td>\n",
       "      <td>0.18</td>\n",
       "      <td>7.0</td>\n",
       "      <td>0.088</td>\n",
       "      <td>27.0</td>\n",
       "      <td>94.0</td>\n",
       "      <td>0.99915</td>\n",
       "      <td>3.38</td>\n",
       "      <td>0.77</td>\n",
       "      <td>9.4</td>\n",
       "    </tr>\n",
       "    <tr>\n",
       "      <th>3557</th>\n",
       "      <td>6.3</td>\n",
       "      <td>0.27</td>\n",
       "      <td>0.29</td>\n",
       "      <td>12.2</td>\n",
       "      <td>0.044</td>\n",
       "      <td>59.0</td>\n",
       "      <td>196.0</td>\n",
       "      <td>0.99782</td>\n",
       "      <td>3.14</td>\n",
       "      <td>0.40</td>\n",
       "      <td>8.8</td>\n",
       "    </tr>\n",
       "    <tr>\n",
       "      <th>3825</th>\n",
       "      <td>8.8</td>\n",
       "      <td>0.27</td>\n",
       "      <td>0.25</td>\n",
       "      <td>5.0</td>\n",
       "      <td>0.024</td>\n",
       "      <td>52.0</td>\n",
       "      <td>99.0</td>\n",
       "      <td>0.99250</td>\n",
       "      <td>2.87</td>\n",
       "      <td>0.49</td>\n",
       "      <td>11.4</td>\n",
       "    </tr>\n",
       "    <tr>\n",
       "      <th>1740</th>\n",
       "      <td>6.4</td>\n",
       "      <td>0.45</td>\n",
       "      <td>0.07</td>\n",
       "      <td>1.1</td>\n",
       "      <td>0.030</td>\n",
       "      <td>10.0</td>\n",
       "      <td>131.0</td>\n",
       "      <td>0.99050</td>\n",
       "      <td>2.97</td>\n",
       "      <td>0.28</td>\n",
       "      <td>10.8</td>\n",
       "    </tr>\n",
       "    <tr>\n",
       "      <th>1221</th>\n",
       "      <td>7.2</td>\n",
       "      <td>0.53</td>\n",
       "      <td>0.13</td>\n",
       "      <td>2.0</td>\n",
       "      <td>0.058</td>\n",
       "      <td>18.0</td>\n",
       "      <td>22.0</td>\n",
       "      <td>0.99573</td>\n",
       "      <td>3.21</td>\n",
       "      <td>0.68</td>\n",
       "      <td>9.9</td>\n",
       "    </tr>\n",
       "  </tbody>\n",
       "</table>\n",
       "</div>"
      ],
      "text/plain": [
       "      fixed acidity  volatile acidity  citric acid  residual sugar  chlorides  \\\n",
       "225             7.5              0.65         0.18             7.0      0.088   \n",
       "3557            6.3              0.27         0.29            12.2      0.044   \n",
       "3825            8.8              0.27         0.25             5.0      0.024   \n",
       "1740            6.4              0.45         0.07             1.1      0.030   \n",
       "1221            7.2              0.53         0.13             2.0      0.058   \n",
       "\n",
       "      free sulfur dioxide  total sulfur dioxide  density    pH  sulphates  \\\n",
       "225                  27.0                  94.0  0.99915  3.38       0.77   \n",
       "3557                 59.0                 196.0  0.99782  3.14       0.40   \n",
       "3825                 52.0                  99.0  0.99250  2.87       0.49   \n",
       "1740                 10.0                 131.0  0.99050  2.97       0.28   \n",
       "1221                 18.0                  22.0  0.99573  3.21       0.68   \n",
       "\n",
       "      alcohol  \n",
       "225       9.4  \n",
       "3557      8.8  \n",
       "3825     11.4  \n",
       "1740     10.8  \n",
       "1221      9.9  "
      ]
     },
     "execution_count": 27,
     "metadata": {},
     "output_type": "execute_result"
    }
   ],
   "source": [
    "train.head()"
   ]
  },
  {
   "cell_type": "markdown",
   "metadata": {
    "colab_type": "text",
    "id": "hEdbrruAsN1D"
   },
   "source": [
    "### Normalize the data (TODO)\n",
    "\n",
    "Next, you can normalize the data, x, using the formula:\n",
    "$$x_{norm} = \\frac{x - \\mu}{\\sigma}$$\n",
    "- The `norm` function is defined for you.\n",
    "- Please apply the `norm` function to normalize the dataframes that contains the feature columns of `train`, `val` and `test` sets."
   ]
  },
  {
   "cell_type": "code",
   "execution_count": 28,
   "metadata": {
    "colab": {},
    "colab_type": "code",
    "id": "WWiZPAHCLjUs"
   },
   "outputs": [],
   "source": [
    "def norm(x):\n",
    "    return (x - train_stats['mean']) / train_stats['std']"
   ]
  },
  {
   "cell_type": "code",
   "execution_count": 29,
   "metadata": {
    "colab": {},
    "colab_type": "code",
    "deletable": false,
    "id": "JEaOi2I2Lk69",
    "nbgrader": {
     "cell_type": "code",
     "checksum": "6bc0cdcb563d192f271067aa3373ff32",
     "grade": false,
     "grade_id": "cell-d8416d975c371095",
     "locked": false,
     "schema_version": 3,
     "solution": true,
     "task": false
    }
   },
   "outputs": [],
   "source": [
    "## Please uncomment all lines in this cell and replace those marked with `# YOUR CODE HERE`.\n",
    "## You can select all lines in this code cell with Ctrl+A (Windows/Linux) or Cmd+A (Mac), then press Ctrl+/ (Windows/Linux) or Cmd+/ (Mac) to uncomment.\n",
    "\n",
    "\n",
    "\n",
    "# normalize the train set\n",
    "norm_train_X = norm(train)\n",
    "    \n",
    "# normalize the val set\n",
    "norm_val_X = norm(val)\n",
    "    \n",
    "# normalize the test set\n",
    "norm_test_X = norm(test)"
   ]
  },
  {
   "cell_type": "code",
   "execution_count": 30,
   "metadata": {
    "deletable": false,
    "editable": false,
    "nbgrader": {
     "cell_type": "code",
     "checksum": "4f567db45bf40191601780379cc100b8",
     "grade": true,
     "grade_id": "cell-97fad979d157529b",
     "locked": true,
     "points": 1,
     "schema_version": 3,
     "solution": false,
     "task": false
    }
   },
   "outputs": [
    {
     "name": "stdout",
     "output_type": "stream",
     "text": [
      "\u001b[92m All public tests passed\n"
     ]
    }
   ],
   "source": [
    "utils.test_norm(norm_train_X, norm_val_X, norm_test_X, train, val, test)\n"
   ]
  },
  {
   "cell_type": "markdown",
   "metadata": {
    "colab_type": "text",
    "id": "hzykDwQhsaPO"
   },
   "source": [
    "## Define the Model (TODO)\n",
    "\n",
    "Define the model using the functional API. The base model will be 2 `Dense` layers of 128 neurons each, and have the `'relu'` activation.\n",
    "- Check out the documentation for [tf.keras.layers.Dense](https://www.tensorflow.org/api_docs/python/tf/keras/layers/Dense)"
   ]
  },
  {
   "cell_type": "code",
   "execution_count": 33,
   "metadata": {
    "colab": {},
    "colab_type": "code",
    "deletable": false,
    "id": "Rhcns3oTFkM6",
    "nbgrader": {
     "cell_type": "code",
     "checksum": "74b031247e569526552bf13a034a1c07",
     "grade": false,
     "grade_id": "cell-73fceedad1fe351c",
     "locked": false,
     "schema_version": 3,
     "solution": true,
     "task": false
    }
   },
   "outputs": [],
   "source": [
    "## Please uncomment all lines in this cell and replace those marked with `# YOUR CODE HERE`.\n",
    "## You can select all lines in this code cell with Ctrl+A (Windows/Linux) or Cmd+A (Mac), then press Ctrl+/ (Windows/Linux) or Cmd+/ (Mac) to uncomment.\n",
    "\n",
    "\n",
    "\n",
    "def base_model(inputs):\n",
    "    \n",
    "    # connect a Dense layer with 128 neurons and a relu activation\n",
    "    x = Dense(units='128',activation='relu')(inputs)\n",
    "    \n",
    "    # connect another Dense layer with 128 neurons and a relu activation\n",
    "    x = Dense(units='128',activation='relu')(x)\n",
    "    return x\n",
    "  "
   ]
  },
  {
   "cell_type": "code",
   "execution_count": 34,
   "metadata": {
    "deletable": false,
    "editable": false,
    "nbgrader": {
     "cell_type": "code",
     "checksum": "9255924b3def80f679616e4c851a43e1",
     "grade": true,
     "grade_id": "cell-54f742a133353d75",
     "locked": true,
     "points": 1,
     "schema_version": 3,
     "solution": false,
     "task": false
    }
   },
   "outputs": [
    {
     "name": "stdout",
     "output_type": "stream",
     "text": [
      "\u001b[92m All public tests passed\n"
     ]
    }
   ],
   "source": [
    "utils.test_base_model(base_model)"
   ]
  },
  {
   "cell_type": "markdown",
   "metadata": {
    "colab_type": "text",
    "id": "xem_fcVws6Kz"
   },
   "source": [
    "# Define output layers of the model (TODO)\n",
    "\n",
    "You will add output layers to the base model. \n",
    "- The model will need two outputs.\n",
    "\n",
    "One output layer will predict wine quality, which is a numeric value.\n",
    "- Define a `Dense` layer with 1 neuron.\n",
    "- Since this is a regression output, the activation can be left as its default value `None`.\n",
    "\n",
    "The other output layer will predict the wine type, which is either red `1` or not red `0` (white).\n",
    "- Define a `Dense` layer with 1 neuron.\n",
    "- Since there are two possible categories, you can use a sigmoid activation for binary classification.\n",
    "\n",
    "Define the `Model`\n",
    "- Define the `Model` object, and set the following parameters:\n",
    "  - `inputs`: pass in the inputs to the model as a list.\n",
    "  - `outputs`: pass in a list of the outputs that you just defined: wine quality, then wine type.\n",
    "  - **Note**: please list the wine quality before wine type in the outputs, as this will affect the calculated loss if you choose the other order."
   ]
  },
  {
   "cell_type": "code",
   "execution_count": 35,
   "metadata": {
    "colab": {},
    "colab_type": "code",
    "deletable": false,
    "id": "n5UGF8PMVLPt",
    "nbgrader": {
     "cell_type": "code",
     "checksum": "76d35b90d20cdcbb22986cd8211057de",
     "grade": false,
     "grade_id": "cell-19e285f482f021fb",
     "locked": false,
     "schema_version": 3,
     "solution": true,
     "task": false
    }
   },
   "outputs": [],
   "source": [
    "## Please uncomment all lines in this cell and replace those marked with `# YOUR CODE HERE`.\n",
    "## You can select all lines in this code cell with Ctrl+A (Windows/Linux) or Cmd+A (Mac), then press Ctrl+/ (Windows/Linux) or Cmd+/ (Mac) to uncomment.\n",
    "\n",
    "\n",
    "\n",
    "def final_model(inputs):\n",
    "    \n",
    "    # get the base model\n",
    "    x = base_model(inputs)\n",
    "\n",
    "    # connect the output Dense layer for regression\n",
    "    wine_quality = Dense(units='1', name='wine_quality')(x)\n",
    "\n",
    "    # connect the output Dense layer for classification. this will use a sigmoid activation.\n",
    "    wine_type = Dense(units='1', activation='sigmoid', name='wine_type')(x)\n",
    "\n",
    "    # define the model using the input and output layers\n",
    "    model = Model(inputs= inputs, outputs= [wine_quality,wine_type])\n",
    "\n",
    "    return model"
   ]
  },
  {
   "cell_type": "code",
   "execution_count": 36,
   "metadata": {
    "deletable": false,
    "editable": false,
    "nbgrader": {
     "cell_type": "code",
     "checksum": "89cbf89d8ab5e2e59ecf7f63f517520a",
     "grade": true,
     "grade_id": "cell-40d050f855c817d1",
     "locked": true,
     "points": 1,
     "schema_version": 3,
     "solution": false,
     "task": false
    }
   },
   "outputs": [
    {
     "name": "stdout",
     "output_type": "stream",
     "text": [
      "\u001b[92m All public tests passed\n"
     ]
    }
   ],
   "source": [
    "utils.test_final_model(final_model)"
   ]
  },
  {
   "cell_type": "markdown",
   "metadata": {
    "colab_type": "text",
    "id": "5R0BMTsltZyu"
   },
   "source": [
    "## Compiling the Model\n",
    "\n",
    "Next, compile the model. When setting the loss parameter of `model.compile`, you're setting the loss for each of the two outputs (wine quality and wine type).\n",
    "\n",
    "To set more than one loss, use a dictionary of key-value pairs.\n",
    "- You can look at the docs for the losses [here](https://www.tensorflow.org/api_docs/python/tf/keras/losses#functions).\n",
    "    - **Note**: For the desired spelling, please look at the \"Functions\" section of the documentation and not the \"classes\" section on that same page.\n",
    "- wine_type: Since you will be performing binary classification on wine type, you should use the binary crossentropy loss function for it.  Please pass this in as a string.  \n",
    "  - **Hint**, this should be all lowercase.  In the documentation, you'll see this under the \"Functions\" section, not the \"Classes\" section.\n",
    "- wine_quality: since this is a regression output, use the mean squared error.  Please pass it in as a string, all lowercase.\n",
    "  - **Hint**: You may notice that there are two aliases for mean squared error.  Please use the shorter name.\n",
    "\n",
    "\n",
    "You will also set the metric for each of the two outputs.  Again, to set metrics for two or more outputs, use a dictionary with key value pairs.\n",
    "- The metrics documentation is linked [here](https://www.tensorflow.org/api_docs/python/tf/keras/metrics).\n",
    "- For the wine type, please set it to accuracy as a string, all lowercase.\n",
    "- For wine quality, please use the root mean squared error.  Instead of a string, you'll set it to an instance of the class [RootMeanSquaredError](https://www.tensorflow.org/api_docs/python/tf/keras/metrics/RootMeanSquaredError), which belongs to the tf.keras.metrics module.\n",
    "\n",
    "**Note**: If you see the error message \n",
    ">Exception: wine quality loss function is incorrect.\n",
    "\n",
    "- Please also check your other losses and metrics, as the error may be caused by the other three key-value pairs and not the wine quality loss."
   ]
  },
  {
   "cell_type": "code",
   "execution_count": 37,
   "metadata": {
    "colab": {},
    "colab_type": "code",
    "deletable": false,
    "id": "LK11duUbUjmh",
    "nbgrader": {
     "cell_type": "code",
     "checksum": "22f45067ca69eb2ccadb43874dbcc27b",
     "grade": false,
     "grade_id": "cell-81afdc4dcca51d5e",
     "locked": false,
     "schema_version": 3,
     "solution": true,
     "task": false
    }
   },
   "outputs": [],
   "source": [
    "## Please uncomment all lines in this cell and replace those marked with `# YOUR CODE HERE`.\n",
    "## You can select all lines in this code cell with Ctrl+A (Windows/Linux) or Cmd+A (Mac), then press Ctrl+/ (Windows/Linux) or Cmd+/ (Mac) to uncomment.\n",
    "\n",
    "\n",
    "\n",
    "inputs = tf.keras.layers.Input(shape=(11,))\n",
    "rms = tf.keras.optimizers.RMSprop(lr=0.0001)\n",
    "model = final_model(inputs)\n",
    "\n",
    "model.compile(optimizer=rms, \n",
    "              loss = {'wine_type' : 'binary_crossentropy',\n",
    "                      'wine_quality' : 'mse'\n",
    "                     },\n",
    "              metrics = {'wine_type' : tf.keras.metrics.Accuracy(),\n",
    "                         'wine_quality': tf.keras.metrics.RootMeanSquaredError()\n",
    "                       }\n",
    "             )\n"
   ]
  },
  {
   "cell_type": "code",
   "execution_count": 38,
   "metadata": {
    "deletable": false,
    "editable": false,
    "nbgrader": {
     "cell_type": "code",
     "checksum": "88e02238ea5e456ff65e835cc8158054",
     "grade": true,
     "grade_id": "cell-2eeeba02391c4632",
     "locked": true,
     "points": 1,
     "schema_version": 3,
     "solution": false,
     "task": false
    }
   },
   "outputs": [
    {
     "name": "stdout",
     "output_type": "stream",
     "text": [
      "\u001b[92m All public tests passed\n"
     ]
    }
   ],
   "source": [
    "utils.test_model_compile(model)"
   ]
  },
  {
   "cell_type": "markdown",
   "metadata": {
    "colab_type": "text",
    "id": "90MpAMpWuKm-"
   },
   "source": [
    "## Training the Model\n",
    "\n",
    "Fit the model to the training inputs and outputs. \n",
    "- Check the documentation for [model.fit](https://www.tensorflow.org/api_docs/python/tf/keras/Model#fit).\n",
    "- Remember to use the normalized training set as inputs. \n",
    "- For the validation data, please use the normalized validation set."
   ]
  },
  {
   "cell_type": "code",
   "execution_count": 39,
   "metadata": {
    "colab": {},
    "colab_type": "code",
    "deletable": false,
    "id": "_eiZkle4XwiY",
    "nbgrader": {
     "cell_type": "code",
     "checksum": "2ca7664be03bfd6fd3651ae44d17b793",
     "grade": false,
     "grade_id": "cell-0bb56262896f6680",
     "locked": false,
     "schema_version": 3,
     "solution": true,
     "task": false
    }
   },
   "outputs": [
    {
     "name": "stdout",
     "output_type": "stream",
     "text": [
      "Train on 3155 samples, validate on 987 samples\n",
      "Epoch 1/180\n",
      "3155/3155 [==============================] - 1s 350us/sample - loss: 25.4560 - wine_quality_loss: 24.7442 - wine_type_loss: 0.6846 - wine_quality_root_mean_squared_error: 4.9771 - wine_type_accuracy: 0.0000e+00 - val_loss: 17.5591 - val_wine_quality_loss: 16.8962 - val_wine_type_loss: 0.6594 - val_wine_quality_root_mean_squared_error: 4.1109 - val_wine_type_accuracy: 0.0000e+00\n",
      "Epoch 2/180\n",
      "3155/3155 [==============================] - 0s 103us/sample - loss: 11.1340 - wine_quality_loss: 10.4924 - wine_type_loss: 0.6269 - wine_quality_root_mean_squared_error: 3.2414 - wine_type_accuracy: 0.0000e+00 - val_loss: 6.5488 - val_wine_quality_loss: 5.9592 - val_wine_type_loss: 0.5931 - val_wine_quality_root_mean_squared_error: 2.4404 - val_wine_type_accuracy: 0.0000e+00\n",
      "Epoch 3/180\n",
      "3155/3155 [==============================] - 0s 116us/sample - loss: 4.3111 - wine_quality_loss: 3.7726 - wine_type_loss: 0.5321 - wine_quality_root_mean_squared_error: 1.9439 - wine_type_accuracy: 0.0000e+00 - val_loss: 3.0742 - val_wine_quality_loss: 2.6038 - val_wine_type_loss: 0.4729 - val_wine_quality_root_mean_squared_error: 1.6129 - val_wine_type_accuracy: 0.0000e+00\n",
      "Epoch 4/180\n",
      "3155/3155 [==============================] - 0s 100us/sample - loss: 2.7238 - wine_quality_loss: 2.3138 - wine_type_loss: 0.4038 - wine_quality_root_mean_squared_error: 1.5231 - wine_type_accuracy: 0.0000e+00 - val_loss: 2.4245 - val_wine_quality_loss: 2.0753 - val_wine_type_loss: 0.3492 - val_wine_quality_root_mean_squared_error: 1.4405 - val_wine_type_accuracy: 0.0000e+00\n",
      "Epoch 5/180\n",
      "3155/3155 [==============================] - 0s 98us/sample - loss: 2.2710 - wine_quality_loss: 1.9710 - wine_type_loss: 0.2992 - wine_quality_root_mean_squared_error: 1.4041 - wine_type_accuracy: 0.0000e+00 - val_loss: 2.0918 - val_wine_quality_loss: 1.8269 - val_wine_type_loss: 0.2640 - val_wine_quality_root_mean_squared_error: 1.3519 - val_wine_type_accuracy: 0.0000e+00\n",
      "Epoch 6/180\n",
      "3155/3155 [==============================] - 0s 96us/sample - loss: 1.9675 - wine_quality_loss: 1.7364 - wine_type_loss: 0.2279 - wine_quality_root_mean_squared_error: 1.3188 - wine_type_accuracy: 0.0000e+00 - val_loss: 1.8429 - val_wine_quality_loss: 1.6396 - val_wine_type_loss: 0.2017 - val_wine_quality_root_mean_squared_error: 1.2810 - val_wine_type_accuracy: 0.0000e+00\n",
      "Epoch 7/180\n",
      "3155/3155 [==============================] - 0s 99us/sample - loss: 1.7406 - wine_quality_loss: 1.5610 - wine_type_loss: 0.1766 - wine_quality_root_mean_squared_error: 1.2507 - wine_type_accuracy: 0.0000e+00 - val_loss: 1.6573 - val_wine_quality_loss: 1.4994 - val_wine_type_loss: 0.1560 - val_wine_quality_root_mean_squared_error: 1.2252 - val_wine_type_accuracy: 0.0000e+00\n",
      "Epoch 8/180\n",
      "3155/3155 [==============================] - 0s 114us/sample - loss: 1.5818 - wine_quality_loss: 1.4417 - wine_type_loss: 0.1394 - wine_quality_root_mean_squared_error: 1.2010 - wine_type_accuracy: 0.0000e+00 - val_loss: 1.5195 - val_wine_quality_loss: 1.3935 - val_wine_type_loss: 0.1239 - val_wine_quality_root_mean_squared_error: 1.1813 - val_wine_type_accuracy: 0.0000e+00\n",
      "Epoch 9/180\n",
      "3155/3155 [==============================] - 0s 97us/sample - loss: 1.4428 - wine_quality_loss: 1.3293 - wine_type_loss: 0.1134 - wine_quality_root_mean_squared_error: 1.1531 - wine_type_accuracy: 0.0000e+00 - val_loss: 1.3918 - val_wine_quality_loss: 1.2881 - val_wine_type_loss: 0.1016 - val_wine_quality_root_mean_squared_error: 1.1358 - val_wine_type_accuracy: 0.0000e+00\n",
      "Epoch 10/180\n",
      "3155/3155 [==============================] - 0s 96us/sample - loss: 1.3261 - wine_quality_loss: 1.2297 - wine_type_loss: 0.0942 - wine_quality_root_mean_squared_error: 1.1098 - wine_type_accuracy: 0.0000e+00 - val_loss: 1.2914 - val_wine_quality_loss: 1.2046 - val_wine_type_loss: 0.0849 - val_wine_quality_root_mean_squared_error: 1.0984 - val_wine_type_accuracy: 0.0000e+00\n",
      "Epoch 11/180\n",
      "3155/3155 [==============================] - 0s 95us/sample - loss: 1.2281 - wine_quality_loss: 1.1463 - wine_type_loss: 0.0810 - wine_quality_root_mean_squared_error: 1.0710 - wine_type_accuracy: 0.0000e+00 - val_loss: 1.2008 - val_wine_quality_loss: 1.1254 - val_wine_type_loss: 0.0733 - val_wine_quality_root_mean_squared_error: 1.0618 - val_wine_type_accuracy: 0.0000e+00\n",
      "Epoch 12/180\n",
      "3155/3155 [==============================] - 0s 95us/sample - loss: 1.1492 - wine_quality_loss: 1.0792 - wine_type_loss: 0.0712 - wine_quality_root_mean_squared_error: 1.0382 - wine_type_accuracy: 0.0000e+00 - val_loss: 1.1254 - val_wine_quality_loss: 1.0590 - val_wine_type_loss: 0.0646 - val_wine_quality_root_mean_squared_error: 1.0299 - val_wine_type_accuracy: 0.0000e+00\n",
      "Epoch 13/180\n",
      "3155/3155 [==============================] - 0s 95us/sample - loss: 1.0757 - wine_quality_loss: 1.0113 - wine_type_loss: 0.0640 - wine_quality_root_mean_squared_error: 1.0059 - wine_type_accuracy: 0.0000e+00 - val_loss: 1.0489 - val_wine_quality_loss: 0.9890 - val_wine_type_loss: 0.0581 - val_wine_quality_root_mean_squared_error: 0.9953 - val_wine_type_accuracy: 0.0000e+00\n",
      "Epoch 14/180\n",
      "3155/3155 [==============================] - 0s 94us/sample - loss: 1.0040 - wine_quality_loss: 0.9440 - wine_type_loss: 0.0581 - wine_quality_root_mean_squared_error: 0.9725 - wine_type_accuracy: 0.0000e+00 - val_loss: 0.9834 - val_wine_quality_loss: 0.9287 - val_wine_type_loss: 0.0530 - val_wine_quality_root_mean_squared_error: 0.9645 - val_wine_type_accuracy: 0.0000e+00\n",
      "Epoch 15/180\n",
      "3155/3155 [==============================] - 0s 95us/sample - loss: 0.9397 - wine_quality_loss: 0.8846 - wine_type_loss: 0.0540 - wine_quality_root_mean_squared_error: 0.9411 - wine_type_accuracy: 0.0000e+00 - val_loss: 0.9259 - val_wine_quality_loss: 0.8751 - val_wine_type_loss: 0.0492 - val_wine_quality_root_mean_squared_error: 0.9363 - val_wine_type_accuracy: 0.0000e+00\n",
      "Epoch 16/180\n",
      "3155/3155 [==============================] - 0s 94us/sample - loss: 0.8811 - wine_quality_loss: 0.8308 - wine_type_loss: 0.0505 - wine_quality_root_mean_squared_error: 0.9113 - wine_type_accuracy: 0.0000e+00 - val_loss: 0.8819 - val_wine_quality_loss: 0.8341 - val_wine_type_loss: 0.0462 - val_wine_quality_root_mean_squared_error: 0.9141 - val_wine_type_accuracy: 0.0000e+00\n",
      "Epoch 17/180\n",
      "3155/3155 [==============================] - 0s 94us/sample - loss: 0.8278 - wine_quality_loss: 0.7802 - wine_type_loss: 0.0478 - wine_quality_root_mean_squared_error: 0.8832 - wine_type_accuracy: 0.0000e+00 - val_loss: 0.8247 - val_wine_quality_loss: 0.7795 - val_wine_type_loss: 0.0436 - val_wine_quality_root_mean_squared_error: 0.8837 - val_wine_type_accuracy: 0.0000e+00\n",
      "Epoch 18/180\n",
      "3155/3155 [==============================] - 0s 94us/sample - loss: 0.7837 - wine_quality_loss: 0.7389 - wine_type_loss: 0.0454 - wine_quality_root_mean_squared_error: 0.8592 - wine_type_accuracy: 0.0000e+00 - val_loss: 0.7810 - val_wine_quality_loss: 0.7380 - val_wine_type_loss: 0.0416 - val_wine_quality_root_mean_squared_error: 0.8598 - val_wine_type_accuracy: 0.0000e+00\n",
      "Epoch 19/180\n",
      "3155/3155 [==============================] - 0s 93us/sample - loss: 0.7384 - wine_quality_loss: 0.6963 - wine_type_loss: 0.0435 - wine_quality_root_mean_squared_error: 0.8335 - wine_type_accuracy: 0.0000e+00 - val_loss: 0.7417 - val_wine_quality_loss: 0.7004 - val_wine_type_loss: 0.0399 - val_wine_quality_root_mean_squared_error: 0.8377 - val_wine_type_accuracy: 0.0000e+00\n",
      "Epoch 20/180\n",
      "3155/3155 [==============================] - 0s 93us/sample - loss: 0.7017 - wine_quality_loss: 0.6592 - wine_type_loss: 0.0420 - wine_quality_root_mean_squared_error: 0.8122 - wine_type_accuracy: 0.0000e+00 - val_loss: 0.7061 - val_wine_quality_loss: 0.6663 - val_wine_type_loss: 0.0385 - val_wine_quality_root_mean_squared_error: 0.8170 - val_wine_type_accuracy: 0.0000e+00\n",
      "Epoch 21/180\n",
      "3155/3155 [==============================] - 0s 94us/sample - loss: 0.6653 - wine_quality_loss: 0.6249 - wine_type_loss: 0.0409 - wine_quality_root_mean_squared_error: 0.7903 - wine_type_accuracy: 0.0000e+00 - val_loss: 0.6746 - val_wine_quality_loss: 0.6361 - val_wine_type_loss: 0.0372 - val_wine_quality_root_mean_squared_error: 0.7983 - val_wine_type_accuracy: 0.0000e+00\n",
      "Epoch 22/180\n",
      "3155/3155 [==============================] - 0s 95us/sample - loss: 0.6304 - wine_quality_loss: 0.5903 - wine_type_loss: 0.0394 - wine_quality_root_mean_squared_error: 0.7688 - wine_type_accuracy: 0.0000e+00 - val_loss: 0.6510 - val_wine_quality_loss: 0.6136 - val_wine_type_loss: 0.0362 - val_wine_quality_root_mean_squared_error: 0.7840 - val_wine_type_accuracy: 0.0000e+00\n",
      "Epoch 23/180\n",
      "3155/3155 [==============================] - 0s 94us/sample - loss: 0.6013 - wine_quality_loss: 0.5628 - wine_type_loss: 0.0383 - wine_quality_root_mean_squared_error: 0.7502 - wine_type_accuracy: 0.0000e+00 - val_loss: 0.6094 - val_wine_quality_loss: 0.5731 - val_wine_type_loss: 0.0352 - val_wine_quality_root_mean_squared_error: 0.7577 - val_wine_type_accuracy: 0.0000e+00\n",
      "Epoch 24/180\n",
      "3155/3155 [==============================] - 0s 80us/sample - loss: 0.5709 - wine_quality_loss: 0.5336 - wine_type_loss: 0.0374 - wine_quality_root_mean_squared_error: 0.7304 - wine_type_accuracy: 0.0000e+00 - val_loss: 0.5871 - val_wine_quality_loss: 0.5517 - val_wine_type_loss: 0.0343 - val_wine_quality_root_mean_squared_error: 0.7434 - val_wine_type_accuracy: 0.0000e+00\n",
      "Epoch 25/180\n",
      "3155/3155 [==============================] - 0s 95us/sample - loss: 0.5472 - wine_quality_loss: 0.5103 - wine_type_loss: 0.0366 - wine_quality_root_mean_squared_error: 0.7146 - wine_type_accuracy: 0.0000e+00 - val_loss: 0.5710 - val_wine_quality_loss: 0.5364 - val_wine_type_loss: 0.0335 - val_wine_quality_root_mean_squared_error: 0.7330 - val_wine_type_accuracy: 0.0000e+00\n",
      "Epoch 26/180\n",
      "3155/3155 [==============================] - 0s 94us/sample - loss: 0.5228 - wine_quality_loss: 0.4865 - wine_type_loss: 0.0356 - wine_quality_root_mean_squared_error: 0.6979 - wine_type_accuracy: 0.0000e+00 - val_loss: 0.5396 - val_wine_quality_loss: 0.5057 - val_wine_type_loss: 0.0329 - val_wine_quality_root_mean_squared_error: 0.7117 - val_wine_type_accuracy: 0.0000e+00\n",
      "Epoch 27/180\n",
      "3155/3155 [==============================] - 0s 94us/sample - loss: 0.5037 - wine_quality_loss: 0.4687 - wine_type_loss: 0.0350 - wine_quality_root_mean_squared_error: 0.6846 - wine_type_accuracy: 0.0000e+00 - val_loss: 0.5258 - val_wine_quality_loss: 0.4925 - val_wine_type_loss: 0.0323 - val_wine_quality_root_mean_squared_error: 0.7024 - val_wine_type_accuracy: 0.0000e+00\n",
      "Epoch 28/180\n",
      "3155/3155 [==============================] - 0s 93us/sample - loss: 0.4846 - wine_quality_loss: 0.4498 - wine_type_loss: 0.0344 - wine_quality_root_mean_squared_error: 0.6709 - wine_type_accuracy: 0.0000e+00 - val_loss: 0.5041 - val_wine_quality_loss: 0.4715 - val_wine_type_loss: 0.0318 - val_wine_quality_root_mean_squared_error: 0.6872 - val_wine_type_accuracy: 0.0000e+00\n",
      "Epoch 29/180\n",
      "3155/3155 [==============================] - 0s 94us/sample - loss: 0.4676 - wine_quality_loss: 0.4340 - wine_type_loss: 0.0337 - wine_quality_root_mean_squared_error: 0.6587 - wine_type_accuracy: 0.0000e+00 - val_loss: 0.4890 - val_wine_quality_loss: 0.4569 - val_wine_type_loss: 0.0313 - val_wine_quality_root_mean_squared_error: 0.6765 - val_wine_type_accuracy: 0.0000e+00\n",
      "Epoch 30/180\n",
      "3155/3155 [==============================] - 0s 95us/sample - loss: 0.4538 - wine_quality_loss: 0.4204 - wine_type_loss: 0.0332 - wine_quality_root_mean_squared_error: 0.6484 - wine_type_accuracy: 0.0000e+00 - val_loss: 0.4782 - val_wine_quality_loss: 0.4465 - val_wine_type_loss: 0.0309 - val_wine_quality_root_mean_squared_error: 0.6687 - val_wine_type_accuracy: 0.0000e+00\n",
      "Epoch 31/180\n",
      "3155/3155 [==============================] - 0s 94us/sample - loss: 0.4383 - wine_quality_loss: 0.4057 - wine_type_loss: 0.0327 - wine_quality_root_mean_squared_error: 0.6368 - wine_type_accuracy: 0.0000e+00 - val_loss: 0.4636 - val_wine_quality_loss: 0.4324 - val_wine_type_loss: 0.0304 - val_wine_quality_root_mean_squared_error: 0.6580 - val_wine_type_accuracy: 0.0000e+00\n",
      "Epoch 32/180\n",
      "3155/3155 [==============================] - 0s 94us/sample - loss: 0.4273 - wine_quality_loss: 0.3950 - wine_type_loss: 0.0324 - wine_quality_root_mean_squared_error: 0.6285 - wine_type_accuracy: 0.0000e+00 - val_loss: 0.4560 - val_wine_quality_loss: 0.4252 - val_wine_type_loss: 0.0301 - val_wine_quality_root_mean_squared_error: 0.6526 - val_wine_type_accuracy: 0.0000e+00\n",
      "Epoch 33/180\n",
      "3155/3155 [==============================] - 0s 96us/sample - loss: 0.4163 - wine_quality_loss: 0.3850 - wine_type_loss: 0.0318 - wine_quality_root_mean_squared_error: 0.6200 - wine_type_accuracy: 0.0000e+00 - val_loss: 0.4483 - val_wine_quality_loss: 0.4178 - val_wine_type_loss: 0.0297 - val_wine_quality_root_mean_squared_error: 0.6468 - val_wine_type_accuracy: 0.0000e+00\n",
      "Epoch 34/180\n",
      "3155/3155 [==============================] - 0s 95us/sample - loss: 0.4080 - wine_quality_loss: 0.3771 - wine_type_loss: 0.0314 - wine_quality_root_mean_squared_error: 0.6136 - wine_type_accuracy: 0.0000e+00 - val_loss: 0.4344 - val_wine_quality_loss: 0.4044 - val_wine_type_loss: 0.0294 - val_wine_quality_root_mean_squared_error: 0.6363 - val_wine_type_accuracy: 0.0000e+00\n",
      "Epoch 35/180\n",
      "3155/3155 [==============================] - 0s 97us/sample - loss: 0.3991 - wine_quality_loss: 0.3674 - wine_type_loss: 0.0309 - wine_quality_root_mean_squared_error: 0.6067 - wine_type_accuracy: 0.0000e+00 - val_loss: 0.4361 - val_wine_quality_loss: 0.4063 - val_wine_type_loss: 0.0291 - val_wine_quality_root_mean_squared_error: 0.6378 - val_wine_type_accuracy: 0.0000e+00\n",
      "Epoch 36/180\n",
      "3155/3155 [==============================] - 0s 94us/sample - loss: 0.3924 - wine_quality_loss: 0.3623 - wine_type_loss: 0.0320 - wine_quality_root_mean_squared_error: 0.6014 - wine_type_accuracy: 0.0000e+00 - val_loss: 0.4334 - val_wine_quality_loss: 0.4040 - val_wine_type_loss: 0.0288 - val_wine_quality_root_mean_squared_error: 0.6359 - val_wine_type_accuracy: 0.0000e+00\n",
      "Epoch 37/180\n",
      "3155/3155 [==============================] - 0s 95us/sample - loss: 0.3835 - wine_quality_loss: 0.3532 - wine_type_loss: 0.0303 - wine_quality_root_mean_squared_error: 0.5942 - wine_type_accuracy: 0.0000e+00 - val_loss: 0.4173 - val_wine_quality_loss: 0.3881 - val_wine_type_loss: 0.0286 - val_wine_quality_root_mean_squared_error: 0.6234 - val_wine_type_accuracy: 0.0000e+00\n",
      "Epoch 38/180\n",
      "3155/3155 [==============================] - 0s 95us/sample - loss: 0.3790 - wine_quality_loss: 0.3486 - wine_type_loss: 0.0300 - wine_quality_root_mean_squared_error: 0.5907 - wine_type_accuracy: 0.0000e+00 - val_loss: 0.4117 - val_wine_quality_loss: 0.3829 - val_wine_type_loss: 0.0283 - val_wine_quality_root_mean_squared_error: 0.6191 - val_wine_type_accuracy: 0.0000e+00\n",
      "Epoch 39/180\n",
      "3155/3155 [==============================] - 0s 95us/sample - loss: 0.3747 - wine_quality_loss: 0.3450 - wine_type_loss: 0.0296 - wine_quality_root_mean_squared_error: 0.5873 - wine_type_accuracy: 0.0000e+00 - val_loss: 0.4094 - val_wine_quality_loss: 0.3809 - val_wine_type_loss: 0.0281 - val_wine_quality_root_mean_squared_error: 0.6174 - val_wine_type_accuracy: 0.0000e+00\n",
      "Epoch 40/180\n",
      "3155/3155 [==============================] - 0s 96us/sample - loss: 0.3692 - wine_quality_loss: 0.3398 - wine_type_loss: 0.0294 - wine_quality_root_mean_squared_error: 0.5829 - wine_type_accuracy: 0.0000e+00 - val_loss: 0.4019 - val_wine_quality_loss: 0.3736 - val_wine_type_loss: 0.0278 - val_wine_quality_root_mean_squared_error: 0.6116 - val_wine_type_accuracy: 0.0000e+00\n",
      "Epoch 41/180\n",
      "3155/3155 [==============================] - 0s 95us/sample - loss: 0.3662 - wine_quality_loss: 0.3373 - wine_type_loss: 0.0290 - wine_quality_root_mean_squared_error: 0.5806 - wine_type_accuracy: 0.0000e+00 - val_loss: 0.4027 - val_wine_quality_loss: 0.3746 - val_wine_type_loss: 0.0277 - val_wine_quality_root_mean_squared_error: 0.6123 - val_wine_type_accuracy: 0.0000e+00\n",
      "Epoch 42/180\n",
      "3155/3155 [==============================] - 0s 96us/sample - loss: 0.3613 - wine_quality_loss: 0.3332 - wine_type_loss: 0.0287 - wine_quality_root_mean_squared_error: 0.5766 - wine_type_accuracy: 0.0000e+00 - val_loss: 0.4000 - val_wine_quality_loss: 0.3722 - val_wine_type_loss: 0.0274 - val_wine_quality_root_mean_squared_error: 0.6103 - val_wine_type_accuracy: 0.0000e+00\n",
      "Epoch 43/180\n",
      "3155/3155 [==============================] - 0s 109us/sample - loss: 0.3590 - wine_quality_loss: 0.3307 - wine_type_loss: 0.0285 - wine_quality_root_mean_squared_error: 0.5748 - wine_type_accuracy: 0.0000e+00 - val_loss: 0.3992 - val_wine_quality_loss: 0.3716 - val_wine_type_loss: 0.0273 - val_wine_quality_root_mean_squared_error: 0.6097 - val_wine_type_accuracy: 0.0000e+00\n",
      "Epoch 44/180\n",
      "3155/3155 [==============================] - 0s 80us/sample - loss: 0.3550 - wine_quality_loss: 0.3266 - wine_type_loss: 0.0282 - wine_quality_root_mean_squared_error: 0.5715 - wine_type_accuracy: 0.0000e+00 - val_loss: 0.3957 - val_wine_quality_loss: 0.3681 - val_wine_type_loss: 0.0271 - val_wine_quality_root_mean_squared_error: 0.6071 - val_wine_type_accuracy: 0.0000e+00\n",
      "Epoch 45/180\n",
      "3155/3155 [==============================] - 0s 81us/sample - loss: 0.3520 - wine_quality_loss: 0.3235 - wine_type_loss: 0.0280 - wine_quality_root_mean_squared_error: 0.5692 - wine_type_accuracy: 0.0000e+00 - val_loss: 0.3931 - val_wine_quality_loss: 0.3659 - val_wine_type_loss: 0.0269 - val_wine_quality_root_mean_squared_error: 0.6050 - val_wine_type_accuracy: 0.0000e+00\n",
      "Epoch 46/180\n",
      "3155/3155 [==============================] - 0s 80us/sample - loss: 0.3503 - wine_quality_loss: 0.3225 - wine_type_loss: 0.0279 - wine_quality_root_mean_squared_error: 0.5678 - wine_type_accuracy: 0.0000e+00 - val_loss: 0.3880 - val_wine_quality_loss: 0.3609 - val_wine_type_loss: 0.0267 - val_wine_quality_root_mean_squared_error: 0.6010 - val_wine_type_accuracy: 0.0000e+00\n",
      "Epoch 47/180\n",
      "3155/3155 [==============================] - 0s 94us/sample - loss: 0.3456 - wine_quality_loss: 0.3181 - wine_type_loss: 0.0277 - wine_quality_root_mean_squared_error: 0.5638 - wine_type_accuracy: 0.0000e+00 - val_loss: 0.3930 - val_wine_quality_loss: 0.3661 - val_wine_type_loss: 0.0266 - val_wine_quality_root_mean_squared_error: 0.6052 - val_wine_type_accuracy: 0.0000e+00\n",
      "Epoch 48/180\n",
      "3155/3155 [==============================] - 0s 95us/sample - loss: 0.3459 - wine_quality_loss: 0.3182 - wine_type_loss: 0.0274 - wine_quality_root_mean_squared_error: 0.5644 - wine_type_accuracy: 0.0000e+00 - val_loss: 0.3906 - val_wine_quality_loss: 0.3639 - val_wine_type_loss: 0.0264 - val_wine_quality_root_mean_squared_error: 0.6034 - val_wine_type_accuracy: 0.0000e+00\n",
      "Epoch 49/180\n",
      "3155/3155 [==============================] - 0s 95us/sample - loss: 0.3432 - wine_quality_loss: 0.3155 - wine_type_loss: 0.0271 - wine_quality_root_mean_squared_error: 0.5621 - wine_type_accuracy: 0.0000e+00 - val_loss: 0.3860 - val_wine_quality_loss: 0.3595 - val_wine_type_loss: 0.0263 - val_wine_quality_root_mean_squared_error: 0.5997 - val_wine_type_accuracy: 0.0000e+00\n",
      "Epoch 50/180\n",
      "3155/3155 [==============================] - 0s 94us/sample - loss: 0.3402 - wine_quality_loss: 0.3131 - wine_type_loss: 0.0271 - wine_quality_root_mean_squared_error: 0.5597 - wine_type_accuracy: 0.0000e+00 - val_loss: 0.3842 - val_wine_quality_loss: 0.3578 - val_wine_type_loss: 0.0261 - val_wine_quality_root_mean_squared_error: 0.5984 - val_wine_type_accuracy: 0.0000e+00\n",
      "Epoch 51/180\n",
      "3155/3155 [==============================] - 0s 95us/sample - loss: 0.3387 - wine_quality_loss: 0.3117 - wine_type_loss: 0.0267 - wine_quality_root_mean_squared_error: 0.5585 - wine_type_accuracy: 0.0000e+00 - val_loss: 0.3850 - val_wine_quality_loss: 0.3587 - val_wine_type_loss: 0.0260 - val_wine_quality_root_mean_squared_error: 0.5991 - val_wine_type_accuracy: 0.0000e+00\n",
      "Epoch 52/180\n",
      "3155/3155 [==============================] - 0s 96us/sample - loss: 0.3380 - wine_quality_loss: 0.3109 - wine_type_loss: 0.0265 - wine_quality_root_mean_squared_error: 0.5580 - wine_type_accuracy: 0.0000e+00 - val_loss: 0.3790 - val_wine_quality_loss: 0.3528 - val_wine_type_loss: 0.0258 - val_wine_quality_root_mean_squared_error: 0.5942 - val_wine_type_accuracy: 0.0000e+00\n",
      "Epoch 53/180\n",
      "3155/3155 [==============================] - 0s 93us/sample - loss: 0.3364 - wine_quality_loss: 0.3103 - wine_type_loss: 0.0263 - wine_quality_root_mean_squared_error: 0.5568 - wine_type_accuracy: 0.0000e+00 - val_loss: 0.3892 - val_wine_quality_loss: 0.3633 - val_wine_type_loss: 0.0257 - val_wine_quality_root_mean_squared_error: 0.6028 - val_wine_type_accuracy: 0.0000e+00\n",
      "Epoch 54/180\n",
      "3155/3155 [==============================] - 0s 94us/sample - loss: 0.3339 - wine_quality_loss: 0.3077 - wine_type_loss: 0.0261 - wine_quality_root_mean_squared_error: 0.5547 - wine_type_accuracy: 0.0000e+00 - val_loss: 0.3807 - val_wine_quality_loss: 0.3549 - val_wine_type_loss: 0.0256 - val_wine_quality_root_mean_squared_error: 0.5959 - val_wine_type_accuracy: 0.0000e+00\n",
      "Epoch 55/180\n",
      "3155/3155 [==============================] - 0s 94us/sample - loss: 0.3335 - wine_quality_loss: 0.3079 - wine_type_loss: 0.0260 - wine_quality_root_mean_squared_error: 0.5544 - wine_type_accuracy: 0.0000e+00 - val_loss: 0.3813 - val_wine_quality_loss: 0.3556 - val_wine_type_loss: 0.0254 - val_wine_quality_root_mean_squared_error: 0.5965 - val_wine_type_accuracy: 0.0000e+00\n",
      "Epoch 56/180\n",
      "3155/3155 [==============================] - 0s 95us/sample - loss: 0.3306 - wine_quality_loss: 0.3045 - wine_type_loss: 0.0258 - wine_quality_root_mean_squared_error: 0.5521 - wine_type_accuracy: 0.0000e+00 - val_loss: 0.3839 - val_wine_quality_loss: 0.3584 - val_wine_type_loss: 0.0253 - val_wine_quality_root_mean_squared_error: 0.5988 - val_wine_type_accuracy: 0.0000e+00\n",
      "Epoch 57/180\n",
      "3155/3155 [==============================] - 0s 94us/sample - loss: 0.3305 - wine_quality_loss: 0.3047 - wine_type_loss: 0.0256 - wine_quality_root_mean_squared_error: 0.5521 - wine_type_accuracy: 0.0000e+00 - val_loss: 0.3800 - val_wine_quality_loss: 0.3546 - val_wine_type_loss: 0.0252 - val_wine_quality_root_mean_squared_error: 0.5956 - val_wine_type_accuracy: 0.0000e+00\n",
      "Epoch 58/180\n",
      "3155/3155 [==============================] - 0s 96us/sample - loss: 0.3290 - wine_quality_loss: 0.3031 - wine_type_loss: 0.0255 - wine_quality_root_mean_squared_error: 0.5508 - wine_type_accuracy: 0.0000e+00 - val_loss: 0.3772 - val_wine_quality_loss: 0.3519 - val_wine_type_loss: 0.0251 - val_wine_quality_root_mean_squared_error: 0.5933 - val_wine_type_accuracy: 0.0000e+00\n",
      "Epoch 59/180\n",
      "3155/3155 [==============================] - 0s 92us/sample - loss: 0.3270 - wine_quality_loss: 0.3018 - wine_type_loss: 0.0253 - wine_quality_root_mean_squared_error: 0.5492 - wine_type_accuracy: 0.0000e+00 - val_loss: 0.3757 - val_wine_quality_loss: 0.3506 - val_wine_type_loss: 0.0249 - val_wine_quality_root_mean_squared_error: 0.5922 - val_wine_type_accuracy: 0.0000e+00\n",
      "Epoch 60/180\n",
      "3155/3155 [==============================] - 0s 94us/sample - loss: 0.3261 - wine_quality_loss: 0.3011 - wine_type_loss: 0.0251 - wine_quality_root_mean_squared_error: 0.5486 - wine_type_accuracy: 0.0000e+00 - val_loss: 0.3766 - val_wine_quality_loss: 0.3517 - val_wine_type_loss: 0.0248 - val_wine_quality_root_mean_squared_error: 0.5931 - val_wine_type_accuracy: 0.0000e+00\n",
      "Epoch 61/180\n",
      "3155/3155 [==============================] - 0s 95us/sample - loss: 0.3242 - wine_quality_loss: 0.2997 - wine_type_loss: 0.0253 - wine_quality_root_mean_squared_error: 0.5470 - wine_type_accuracy: 0.0000e+00 - val_loss: 0.3743 - val_wine_quality_loss: 0.3493 - val_wine_type_loss: 0.0247 - val_wine_quality_root_mean_squared_error: 0.5912 - val_wine_type_accuracy: 0.0000e+00\n",
      "Epoch 62/180\n",
      "3155/3155 [==============================] - 0s 94us/sample - loss: 0.3240 - wine_quality_loss: 0.2989 - wine_type_loss: 0.0262 - wine_quality_root_mean_squared_error: 0.5469 - wine_type_accuracy: 0.0000e+00 - val_loss: 0.3760 - val_wine_quality_loss: 0.3511 - val_wine_type_loss: 0.0246 - val_wine_quality_root_mean_squared_error: 0.5927 - val_wine_type_accuracy: 0.0000e+00\n",
      "Epoch 63/180\n",
      "3155/3155 [==============================] - 0s 95us/sample - loss: 0.3241 - wine_quality_loss: 0.3000 - wine_type_loss: 0.0246 - wine_quality_root_mean_squared_error: 0.5472 - wine_type_accuracy: 0.0000e+00 - val_loss: 0.3733 - val_wine_quality_loss: 0.3486 - val_wine_type_loss: 0.0245 - val_wine_quality_root_mean_squared_error: 0.5905 - val_wine_type_accuracy: 0.0000e+00\n",
      "Epoch 64/180\n",
      "3155/3155 [==============================] - 0s 95us/sample - loss: 0.3213 - wine_quality_loss: 0.2964 - wine_type_loss: 0.0245 - wine_quality_root_mean_squared_error: 0.5447 - wine_type_accuracy: 0.0000e+00 - val_loss: 0.3705 - val_wine_quality_loss: 0.3459 - val_wine_type_loss: 0.0244 - val_wine_quality_root_mean_squared_error: 0.5882 - val_wine_type_accuracy: 0.0000e+00\n",
      "Epoch 65/180\n",
      "3155/3155 [==============================] - 0s 95us/sample - loss: 0.3202 - wine_quality_loss: 0.2962 - wine_type_loss: 0.0244 - wine_quality_root_mean_squared_error: 0.5439 - wine_type_accuracy: 0.0000e+00 - val_loss: 0.3775 - val_wine_quality_loss: 0.3529 - val_wine_type_loss: 0.0243 - val_wine_quality_root_mean_squared_error: 0.5942 - val_wine_type_accuracy: 0.0000e+00\n",
      "Epoch 66/180\n",
      "3155/3155 [==============================] - 0s 93us/sample - loss: 0.3203 - wine_quality_loss: 0.2957 - wine_type_loss: 0.0241 - wine_quality_root_mean_squared_error: 0.5441 - wine_type_accuracy: 0.0000e+00 - val_loss: 0.3775 - val_wine_quality_loss: 0.3530 - val_wine_type_loss: 0.0242 - val_wine_quality_root_mean_squared_error: 0.5943 - val_wine_type_accuracy: 0.0000e+00\n",
      "Epoch 67/180\n",
      "3155/3155 [==============================] - 0s 95us/sample - loss: 0.3188 - wine_quality_loss: 0.2946 - wine_type_loss: 0.0240 - wine_quality_root_mean_squared_error: 0.5429 - wine_type_accuracy: 0.0000e+00 - val_loss: 0.3705 - val_wine_quality_loss: 0.3461 - val_wine_type_loss: 0.0242 - val_wine_quality_root_mean_squared_error: 0.5884 - val_wine_type_accuracy: 0.0000e+00\n",
      "Epoch 68/180\n",
      "3155/3155 [==============================] - 0s 94us/sample - loss: 0.3174 - wine_quality_loss: 0.2933 - wine_type_loss: 0.0238 - wine_quality_root_mean_squared_error: 0.5417 - wine_type_accuracy: 0.0000e+00 - val_loss: 0.3740 - val_wine_quality_loss: 0.3497 - val_wine_type_loss: 0.0241 - val_wine_quality_root_mean_squared_error: 0.5915 - val_wine_type_accuracy: 0.0000e+00\n",
      "Epoch 69/180\n",
      "3155/3155 [==============================] - 0s 95us/sample - loss: 0.3166 - wine_quality_loss: 0.2934 - wine_type_loss: 0.0237 - wine_quality_root_mean_squared_error: 0.5411 - wine_type_accuracy: 0.0000e+00 - val_loss: 0.3792 - val_wine_quality_loss: 0.3550 - val_wine_type_loss: 0.0239 - val_wine_quality_root_mean_squared_error: 0.5959 - val_wine_type_accuracy: 0.0000e+00\n",
      "Epoch 70/180\n",
      "3155/3155 [==============================] - 0s 94us/sample - loss: 0.3166 - wine_quality_loss: 0.2931 - wine_type_loss: 0.0237 - wine_quality_root_mean_squared_error: 0.5413 - wine_type_accuracy: 0.0000e+00 - val_loss: 0.3822 - val_wine_quality_loss: 0.3580 - val_wine_type_loss: 0.0239 - val_wine_quality_root_mean_squared_error: 0.5985 - val_wine_type_accuracy: 0.0000e+00\n",
      "Epoch 71/180\n",
      "3155/3155 [==============================] - 0s 95us/sample - loss: 0.3165 - wine_quality_loss: 0.2931 - wine_type_loss: 0.0235 - wine_quality_root_mean_squared_error: 0.5412 - wine_type_accuracy: 0.0000e+00 - val_loss: 0.3682 - val_wine_quality_loss: 0.3442 - val_wine_type_loss: 0.0238 - val_wine_quality_root_mean_squared_error: 0.5867 - val_wine_type_accuracy: 0.0000e+00\n",
      "Epoch 72/180\n",
      "3155/3155 [==============================] - 0s 95us/sample - loss: 0.3147 - wine_quality_loss: 0.2923 - wine_type_loss: 0.0233 - wine_quality_root_mean_squared_error: 0.5398 - wine_type_accuracy: 0.0000e+00 - val_loss: 0.3698 - val_wine_quality_loss: 0.3459 - val_wine_type_loss: 0.0237 - val_wine_quality_root_mean_squared_error: 0.5882 - val_wine_type_accuracy: 0.0000e+00\n",
      "Epoch 73/180\n",
      "3155/3155 [==============================] - 0s 94us/sample - loss: 0.3139 - wine_quality_loss: 0.2912 - wine_type_loss: 0.0232 - wine_quality_root_mean_squared_error: 0.5392 - wine_type_accuracy: 0.0000e+00 - val_loss: 0.3632 - val_wine_quality_loss: 0.3394 - val_wine_type_loss: 0.0236 - val_wine_quality_root_mean_squared_error: 0.5827 - val_wine_type_accuracy: 0.0000e+00\n",
      "Epoch 74/180\n",
      "3155/3155 [==============================] - 0s 92us/sample - loss: 0.3134 - wine_quality_loss: 0.2899 - wine_type_loss: 0.0231 - wine_quality_root_mean_squared_error: 0.5388 - wine_type_accuracy: 0.0000e+00 - val_loss: 0.3713 - val_wine_quality_loss: 0.3476 - val_wine_type_loss: 0.0235 - val_wine_quality_root_mean_squared_error: 0.5896 - val_wine_type_accuracy: 0.0000e+00\n",
      "Epoch 75/180\n",
      "3155/3155 [==============================] - 0s 94us/sample - loss: 0.3124 - wine_quality_loss: 0.2895 - wine_type_loss: 0.0229 - wine_quality_root_mean_squared_error: 0.5380 - wine_type_accuracy: 0.0000e+00 - val_loss: 0.3689 - val_wine_quality_loss: 0.3453 - val_wine_type_loss: 0.0235 - val_wine_quality_root_mean_squared_error: 0.5877 - val_wine_type_accuracy: 0.0000e+00\n",
      "Epoch 76/180\n",
      "3155/3155 [==============================] - 0s 93us/sample - loss: 0.3116 - wine_quality_loss: 0.2886 - wine_type_loss: 0.0229 - wine_quality_root_mean_squared_error: 0.5373 - wine_type_accuracy: 0.0000e+00 - val_loss: 0.3646 - val_wine_quality_loss: 0.3410 - val_wine_type_loss: 0.0234 - val_wine_quality_root_mean_squared_error: 0.5841 - val_wine_type_accuracy: 0.0000e+00\n",
      "Epoch 77/180\n",
      "3155/3155 [==============================] - 0s 79us/sample - loss: 0.3104 - wine_quality_loss: 0.2879 - wine_type_loss: 0.0227 - wine_quality_root_mean_squared_error: 0.5364 - wine_type_accuracy: 0.0000e+00 - val_loss: 0.3772 - val_wine_quality_loss: 0.3537 - val_wine_type_loss: 0.0233 - val_wine_quality_root_mean_squared_error: 0.5948 - val_wine_type_accuracy: 0.0000e+00\n",
      "Epoch 78/180\n",
      "3155/3155 [==============================] - 0s 95us/sample - loss: 0.3096 - wine_quality_loss: 0.2868 - wine_type_loss: 0.0225 - wine_quality_root_mean_squared_error: 0.5357 - wine_type_accuracy: 0.0000e+00 - val_loss: 0.3661 - val_wine_quality_loss: 0.3428 - val_wine_type_loss: 0.0232 - val_wine_quality_root_mean_squared_error: 0.5855 - val_wine_type_accuracy: 0.0000e+00\n",
      "Epoch 79/180\n",
      "3155/3155 [==============================] - 0s 111us/sample - loss: 0.3085 - wine_quality_loss: 0.2862 - wine_type_loss: 0.0228 - wine_quality_root_mean_squared_error: 0.5348 - wine_type_accuracy: 0.0000e+00 - val_loss: 0.3652 - val_wine_quality_loss: 0.3419 - val_wine_type_loss: 0.0231 - val_wine_quality_root_mean_squared_error: 0.5848 - val_wine_type_accuracy: 0.0000e+00\n",
      "Epoch 80/180\n",
      "3155/3155 [==============================] - 0s 96us/sample - loss: 0.3087 - wine_quality_loss: 0.2865 - wine_type_loss: 0.0223 - wine_quality_root_mean_squared_error: 0.5351 - wine_type_accuracy: 0.0000e+00 - val_loss: 0.3668 - val_wine_quality_loss: 0.3435 - val_wine_type_loss: 0.0230 - val_wine_quality_root_mean_squared_error: 0.5862 - val_wine_type_accuracy: 0.0000e+00\n",
      "Epoch 81/180\n",
      "3155/3155 [==============================] - 0s 94us/sample - loss: 0.3084 - wine_quality_loss: 0.2864 - wine_type_loss: 0.0221 - wine_quality_root_mean_squared_error: 0.5350 - wine_type_accuracy: 0.0000e+00 - val_loss: 0.3674 - val_wine_quality_loss: 0.3443 - val_wine_type_loss: 0.0230 - val_wine_quality_root_mean_squared_error: 0.5868 - val_wine_type_accuracy: 0.0000e+00\n",
      "Epoch 82/180\n",
      "3155/3155 [==============================] - 0s 80us/sample - loss: 0.3069 - wine_quality_loss: 0.2847 - wine_type_loss: 0.0221 - wine_quality_root_mean_squared_error: 0.5336 - wine_type_accuracy: 0.0000e+00 - val_loss: 0.3664 - val_wine_quality_loss: 0.3434 - val_wine_type_loss: 0.0229 - val_wine_quality_root_mean_squared_error: 0.5860 - val_wine_type_accuracy: 0.0010\n",
      "Epoch 83/180\n",
      "3155/3155 [==============================] - 0s 93us/sample - loss: 0.3049 - wine_quality_loss: 0.2826 - wine_type_loss: 0.0219 - wine_quality_root_mean_squared_error: 0.5319 - wine_type_accuracy: 0.0000e+00 - val_loss: 0.3707 - val_wine_quality_loss: 0.3477 - val_wine_type_loss: 0.0228 - val_wine_quality_root_mean_squared_error: 0.5897 - val_wine_type_accuracy: 0.0020\n",
      "Epoch 84/180\n",
      "3155/3155 [==============================] - 0s 94us/sample - loss: 0.3047 - wine_quality_loss: 0.2826 - wine_type_loss: 0.0218 - wine_quality_root_mean_squared_error: 0.5318 - wine_type_accuracy: 0.0000e+00 - val_loss: 0.3643 - val_wine_quality_loss: 0.3415 - val_wine_type_loss: 0.0227 - val_wine_quality_root_mean_squared_error: 0.5844 - val_wine_type_accuracy: 0.0020\n",
      "Epoch 85/180\n",
      "3155/3155 [==============================] - 0s 95us/sample - loss: 0.3051 - wine_quality_loss: 0.2834 - wine_type_loss: 0.0217 - wine_quality_root_mean_squared_error: 0.5323 - wine_type_accuracy: 0.0000e+00 - val_loss: 0.3646 - val_wine_quality_loss: 0.3417 - val_wine_type_loss: 0.0227 - val_wine_quality_root_mean_squared_error: 0.5847 - val_wine_type_accuracy: 0.0020\n",
      "Epoch 86/180\n",
      "3155/3155 [==============================] - 0s 94us/sample - loss: 0.3038 - wine_quality_loss: 0.2822 - wine_type_loss: 0.0217 - wine_quality_root_mean_squared_error: 0.5312 - wine_type_accuracy: 0.0000e+00 - val_loss: 0.3703 - val_wine_quality_loss: 0.3474 - val_wine_type_loss: 0.0226 - val_wine_quality_root_mean_squared_error: 0.5896 - val_wine_type_accuracy: 0.0020\n",
      "Epoch 87/180\n",
      "3155/3155 [==============================] - 0s 92us/sample - loss: 0.3041 - wine_quality_loss: 0.2825 - wine_type_loss: 0.0215 - wine_quality_root_mean_squared_error: 0.5316 - wine_type_accuracy: 0.0000e+00 - val_loss: 0.3655 - val_wine_quality_loss: 0.3428 - val_wine_type_loss: 0.0225 - val_wine_quality_root_mean_squared_error: 0.5855 - val_wine_type_accuracy: 0.0020\n",
      "Epoch 88/180\n",
      "3155/3155 [==============================] - 0s 95us/sample - loss: 0.3029 - wine_quality_loss: 0.2812 - wine_type_loss: 0.0214 - wine_quality_root_mean_squared_error: 0.5306 - wine_type_accuracy: 0.0000e+00 - val_loss: 0.3614 - val_wine_quality_loss: 0.3388 - val_wine_type_loss: 0.0224 - val_wine_quality_root_mean_squared_error: 0.5821 - val_wine_type_accuracy: 0.0020\n",
      "Epoch 89/180\n",
      "3155/3155 [==============================] - 0s 93us/sample - loss: 0.3023 - wine_quality_loss: 0.2807 - wine_type_loss: 0.0212 - wine_quality_root_mean_squared_error: 0.5301 - wine_type_accuracy: 0.0000e+00 - val_loss: 0.3638 - val_wine_quality_loss: 0.3412 - val_wine_type_loss: 0.0224 - val_wine_quality_root_mean_squared_error: 0.5842 - val_wine_type_accuracy: 0.0020\n",
      "Epoch 90/180\n",
      "3155/3155 [==============================] - 0s 94us/sample - loss: 0.3011 - wine_quality_loss: 0.2799 - wine_type_loss: 0.0212 - wine_quality_root_mean_squared_error: 0.5290 - wine_type_accuracy: 0.0000e+00 - val_loss: 0.3660 - val_wine_quality_loss: 0.3436 - val_wine_type_loss: 0.0223 - val_wine_quality_root_mean_squared_error: 0.5861 - val_wine_type_accuracy: 0.0020\n",
      "Epoch 91/180\n",
      "3155/3155 [==============================] - 0s 92us/sample - loss: 0.3007 - wine_quality_loss: 0.2799 - wine_type_loss: 0.0210 - wine_quality_root_mean_squared_error: 0.5287 - wine_type_accuracy: 0.0000e+00 - val_loss: 0.3660 - val_wine_quality_loss: 0.3435 - val_wine_type_loss: 0.0222 - val_wine_quality_root_mean_squared_error: 0.5862 - val_wine_type_accuracy: 0.0020\n",
      "Epoch 92/180\n",
      "3155/3155 [==============================] - 0s 94us/sample - loss: 0.3001 - wine_quality_loss: 0.2788 - wine_type_loss: 0.0209 - wine_quality_root_mean_squared_error: 0.5283 - wine_type_accuracy: 0.0000e+00 - val_loss: 0.3621 - val_wine_quality_loss: 0.3398 - val_wine_type_loss: 0.0222 - val_wine_quality_root_mean_squared_error: 0.5830 - val_wine_type_accuracy: 0.0020\n",
      "Epoch 93/180\n",
      "3155/3155 [==============================] - 0s 92us/sample - loss: 0.3000 - wine_quality_loss: 0.2792 - wine_type_loss: 0.0208 - wine_quality_root_mean_squared_error: 0.5283 - wine_type_accuracy: 0.0000e+00 - val_loss: 0.3635 - val_wine_quality_loss: 0.3412 - val_wine_type_loss: 0.0221 - val_wine_quality_root_mean_squared_error: 0.5842 - val_wine_type_accuracy: 0.0020\n",
      "Epoch 94/180\n",
      "3155/3155 [==============================] - 0s 93us/sample - loss: 0.2987 - wine_quality_loss: 0.2777 - wine_type_loss: 0.0207 - wine_quality_root_mean_squared_error: 0.5271 - wine_type_accuracy: 0.0000e+00 - val_loss: 0.3606 - val_wine_quality_loss: 0.3383 - val_wine_type_loss: 0.0221 - val_wine_quality_root_mean_squared_error: 0.5818 - val_wine_type_accuracy: 0.0020\n",
      "Epoch 95/180\n",
      "3155/3155 [==============================] - 0s 78us/sample - loss: 0.2983 - wine_quality_loss: 0.2774 - wine_type_loss: 0.0207 - wine_quality_root_mean_squared_error: 0.5269 - wine_type_accuracy: 0.0000e+00 - val_loss: 0.3621 - val_wine_quality_loss: 0.3399 - val_wine_type_loss: 0.0220 - val_wine_quality_root_mean_squared_error: 0.5831 - val_wine_type_accuracy: 0.0020\n",
      "Epoch 96/180\n",
      "3155/3155 [==============================] - 0s 94us/sample - loss: 0.2975 - wine_quality_loss: 0.2772 - wine_type_loss: 0.0205 - wine_quality_root_mean_squared_error: 0.5262 - wine_type_accuracy: 0.0000e+00 - val_loss: 0.3726 - val_wine_quality_loss: 0.3506 - val_wine_type_loss: 0.0219 - val_wine_quality_root_mean_squared_error: 0.5921 - val_wine_type_accuracy: 0.0020\n",
      "Epoch 97/180\n",
      "3155/3155 [==============================] - 0s 94us/sample - loss: 0.2981 - wine_quality_loss: 0.2777 - wine_type_loss: 0.0216 - wine_quality_root_mean_squared_error: 0.5268 - wine_type_accuracy: 0.0000e+00 - val_loss: 0.3626 - val_wine_quality_loss: 0.3406 - val_wine_type_loss: 0.0219 - val_wine_quality_root_mean_squared_error: 0.5837 - val_wine_type_accuracy: 0.0020\n",
      "Epoch 98/180\n",
      "3155/3155 [==============================] - 0s 94us/sample - loss: 0.2968 - wine_quality_loss: 0.2764 - wine_type_loss: 0.0204 - wine_quality_root_mean_squared_error: 0.5257 - wine_type_accuracy: 0.0000e+00 - val_loss: 0.3619 - val_wine_quality_loss: 0.3400 - val_wine_type_loss: 0.0218 - val_wine_quality_root_mean_squared_error: 0.5831 - val_wine_type_accuracy: 0.0020\n",
      "Epoch 99/180\n",
      "3155/3155 [==============================] - 0s 94us/sample - loss: 0.2957 - wine_quality_loss: 0.2754 - wine_type_loss: 0.0202 - wine_quality_root_mean_squared_error: 0.5248 - wine_type_accuracy: 0.0000e+00 - val_loss: 0.3619 - val_wine_quality_loss: 0.3401 - val_wine_type_loss: 0.0217 - val_wine_quality_root_mean_squared_error: 0.5832 - val_wine_type_accuracy: 0.0020\n",
      "Epoch 100/180\n",
      "3155/3155 [==============================] - 0s 94us/sample - loss: 0.2953 - wine_quality_loss: 0.2748 - wine_type_loss: 0.0201 - wine_quality_root_mean_squared_error: 0.5245 - wine_type_accuracy: 0.0000e+00 - val_loss: 0.3593 - val_wine_quality_loss: 0.3375 - val_wine_type_loss: 0.0216 - val_wine_quality_root_mean_squared_error: 0.5810 - val_wine_type_accuracy: 0.0020\n",
      "Epoch 101/180\n",
      "3155/3155 [==============================] - 0s 96us/sample - loss: 0.2949 - wine_quality_loss: 0.2750 - wine_type_loss: 0.0200 - wine_quality_root_mean_squared_error: 0.5242 - wine_type_accuracy: 0.0000e+00 - val_loss: 0.3608 - val_wine_quality_loss: 0.3390 - val_wine_type_loss: 0.0216 - val_wine_quality_root_mean_squared_error: 0.5823 - val_wine_type_accuracy: 0.0020\n",
      "Epoch 102/180\n",
      "3155/3155 [==============================] - 0s 97us/sample - loss: 0.2938 - wine_quality_loss: 0.2741 - wine_type_loss: 0.0200 - wine_quality_root_mean_squared_error: 0.5232 - wine_type_accuracy: 0.0000e+00 - val_loss: 0.3653 - val_wine_quality_loss: 0.3435 - val_wine_type_loss: 0.0215 - val_wine_quality_root_mean_squared_error: 0.5862 - val_wine_type_accuracy: 0.0020\n",
      "Epoch 103/180\n",
      "3155/3155 [==============================] - 0s 92us/sample - loss: 0.2938 - wine_quality_loss: 0.2736 - wine_type_loss: 0.0198 - wine_quality_root_mean_squared_error: 0.5234 - wine_type_accuracy: 0.0000e+00 - val_loss: 0.3672 - val_wine_quality_loss: 0.3456 - val_wine_type_loss: 0.0215 - val_wine_quality_root_mean_squared_error: 0.5879 - val_wine_type_accuracy: 0.0020\n",
      "Epoch 104/180\n",
      "3155/3155 [==============================] - 0s 95us/sample - loss: 0.2933 - wine_quality_loss: 0.2730 - wine_type_loss: 0.0198 - wine_quality_root_mean_squared_error: 0.5229 - wine_type_accuracy: 0.0000e+00 - val_loss: 0.3650 - val_wine_quality_loss: 0.3435 - val_wine_type_loss: 0.0214 - val_wine_quality_root_mean_squared_error: 0.5861 - val_wine_type_accuracy: 0.0020\n",
      "Epoch 105/180\n",
      "3155/3155 [==============================] - 0s 94us/sample - loss: 0.2924 - wine_quality_loss: 0.2724 - wine_type_loss: 0.0196 - wine_quality_root_mean_squared_error: 0.5222 - wine_type_accuracy: 0.0000e+00 - val_loss: 0.3560 - val_wine_quality_loss: 0.3345 - val_wine_type_loss: 0.0213 - val_wine_quality_root_mean_squared_error: 0.5785 - val_wine_type_accuracy: 0.0020\n",
      "Epoch 106/180\n",
      "3155/3155 [==============================] - 0s 93us/sample - loss: 0.2919 - wine_quality_loss: 0.2723 - wine_type_loss: 0.0195 - wine_quality_root_mean_squared_error: 0.5218 - wine_type_accuracy: 0.0000e+00 - val_loss: 0.3640 - val_wine_quality_loss: 0.3426 - val_wine_type_loss: 0.0213 - val_wine_quality_root_mean_squared_error: 0.5854 - val_wine_type_accuracy: 0.0020\n",
      "Epoch 107/180\n",
      "3155/3155 [==============================] - 0s 92us/sample - loss: 0.2916 - wine_quality_loss: 0.2719 - wine_type_loss: 0.0194 - wine_quality_root_mean_squared_error: 0.5217 - wine_type_accuracy: 0.0000e+00 - val_loss: 0.3577 - val_wine_quality_loss: 0.3362 - val_wine_type_loss: 0.0212 - val_wine_quality_root_mean_squared_error: 0.5800 - val_wine_type_accuracy: 0.0020\n",
      "Epoch 108/180\n",
      "3155/3155 [==============================] - 0s 96us/sample - loss: 0.2913 - wine_quality_loss: 0.2713 - wine_type_loss: 0.0194 - wine_quality_root_mean_squared_error: 0.5214 - wine_type_accuracy: 0.0000e+00 - val_loss: 0.3585 - val_wine_quality_loss: 0.3372 - val_wine_type_loss: 0.0211 - val_wine_quality_root_mean_squared_error: 0.5808 - val_wine_type_accuracy: 0.0020\n",
      "Epoch 109/180\n",
      "3155/3155 [==============================] - 0s 92us/sample - loss: 0.2915 - wine_quality_loss: 0.2730 - wine_type_loss: 0.0192 - wine_quality_root_mean_squared_error: 0.5217 - wine_type_accuracy: 0.0000e+00 - val_loss: 0.3631 - val_wine_quality_loss: 0.3420 - val_wine_type_loss: 0.0211 - val_wine_quality_root_mean_squared_error: 0.5848 - val_wine_type_accuracy: 0.0020\n",
      "Epoch 110/180\n",
      "3155/3155 [==============================] - 0s 93us/sample - loss: 0.2900 - wine_quality_loss: 0.2712 - wine_type_loss: 0.0192 - wine_quality_root_mean_squared_error: 0.5203 - wine_type_accuracy: 0.0000e+00 - val_loss: 0.3613 - val_wine_quality_loss: 0.3401 - val_wine_type_loss: 0.0210 - val_wine_quality_root_mean_squared_error: 0.5832 - val_wine_type_accuracy: 0.0020\n",
      "Epoch 111/180\n",
      "3155/3155 [==============================] - 0s 92us/sample - loss: 0.2897 - wine_quality_loss: 0.2705 - wine_type_loss: 0.0191 - wine_quality_root_mean_squared_error: 0.5202 - wine_type_accuracy: 0.0000e+00 - val_loss: 0.3617 - val_wine_quality_loss: 0.3406 - val_wine_type_loss: 0.0210 - val_wine_quality_root_mean_squared_error: 0.5836 - val_wine_type_accuracy: 0.0020\n",
      "Epoch 112/180\n",
      "3155/3155 [==============================] - 0s 79us/sample - loss: 0.2886 - wine_quality_loss: 0.2698 - wine_type_loss: 0.0190 - wine_quality_root_mean_squared_error: 0.5192 - wine_type_accuracy: 0.0000e+00 - val_loss: 0.3645 - val_wine_quality_loss: 0.3435 - val_wine_type_loss: 0.0209 - val_wine_quality_root_mean_squared_error: 0.5860 - val_wine_type_accuracy: 0.0020\n",
      "Epoch 113/180\n",
      "3155/3155 [==============================] - 0s 95us/sample - loss: 0.2897 - wine_quality_loss: 0.2702 - wine_type_loss: 0.0190 - wine_quality_root_mean_squared_error: 0.5202 - wine_type_accuracy: 0.0000e+00 - val_loss: 0.3590 - val_wine_quality_loss: 0.3380 - val_wine_type_loss: 0.0209 - val_wine_quality_root_mean_squared_error: 0.5814 - val_wine_type_accuracy: 0.0020\n",
      "Epoch 114/180\n",
      "3155/3155 [==============================] - 0s 93us/sample - loss: 0.2881 - wine_quality_loss: 0.2690 - wine_type_loss: 0.0188 - wine_quality_root_mean_squared_error: 0.5189 - wine_type_accuracy: 0.0000e+00 - val_loss: 0.3570 - val_wine_quality_loss: 0.3360 - val_wine_type_loss: 0.0208 - val_wine_quality_root_mean_squared_error: 0.5797 - val_wine_type_accuracy: 0.0020\n",
      "Epoch 115/180\n",
      "3155/3155 [==============================] - 0s 95us/sample - loss: 0.2875 - wine_quality_loss: 0.2685 - wine_type_loss: 0.0188 - wine_quality_root_mean_squared_error: 0.5183 - wine_type_accuracy: 0.0000e+00 - val_loss: 0.3592 - val_wine_quality_loss: 0.3383 - val_wine_type_loss: 0.0207 - val_wine_quality_root_mean_squared_error: 0.5817 - val_wine_type_accuracy: 0.0020\n",
      "Epoch 116/180\n",
      "3155/3155 [==============================] - 0s 95us/sample - loss: 0.2871 - wine_quality_loss: 0.2682 - wine_type_loss: 0.0187 - wine_quality_root_mean_squared_error: 0.5181 - wine_type_accuracy: 0.0000e+00 - val_loss: 0.3625 - val_wine_quality_loss: 0.3417 - val_wine_type_loss: 0.0207 - val_wine_quality_root_mean_squared_error: 0.5846 - val_wine_type_accuracy: 0.0020\n",
      "Epoch 117/180\n",
      "3155/3155 [==============================] - 0s 94us/sample - loss: 0.2880 - wine_quality_loss: 0.2689 - wine_type_loss: 0.0187 - wine_quality_root_mean_squared_error: 0.5189 - wine_type_accuracy: 0.0000e+00 - val_loss: 0.3593 - val_wine_quality_loss: 0.3385 - val_wine_type_loss: 0.0206 - val_wine_quality_root_mean_squared_error: 0.5819 - val_wine_type_accuracy: 0.0020\n",
      "Epoch 118/180\n",
      "3155/3155 [==============================] - 0s 95us/sample - loss: 0.2857 - wine_quality_loss: 0.2679 - wine_type_loss: 0.0185 - wine_quality_root_mean_squared_error: 0.5168 - wine_type_accuracy: 0.0000e+00 - val_loss: 0.3628 - val_wine_quality_loss: 0.3422 - val_wine_type_loss: 0.0205 - val_wine_quality_root_mean_squared_error: 0.5850 - val_wine_type_accuracy: 0.0020\n",
      "Epoch 119/180\n",
      "3155/3155 [==============================] - 0s 94us/sample - loss: 0.2851 - wine_quality_loss: 0.2668 - wine_type_loss: 0.0185 - wine_quality_root_mean_squared_error: 0.5163 - wine_type_accuracy: 0.0000e+00 - val_loss: 0.3616 - val_wine_quality_loss: 0.3410 - val_wine_type_loss: 0.0205 - val_wine_quality_root_mean_squared_error: 0.5840 - val_wine_type_accuracy: 0.0020\n",
      "Epoch 120/180\n",
      "3155/3155 [==============================] - 0s 95us/sample - loss: 0.2849 - wine_quality_loss: 0.2667 - wine_type_loss: 0.0183 - wine_quality_root_mean_squared_error: 0.5162 - wine_type_accuracy: 0.0000e+00 - val_loss: 0.3601 - val_wine_quality_loss: 0.3395 - val_wine_type_loss: 0.0204 - val_wine_quality_root_mean_squared_error: 0.5828 - val_wine_type_accuracy: 0.0020\n",
      "Epoch 121/180\n",
      "3155/3155 [==============================] - 0s 93us/sample - loss: 0.2847 - wine_quality_loss: 0.2666 - wine_type_loss: 0.0194 - wine_quality_root_mean_squared_error: 0.5161 - wine_type_accuracy: 0.0000e+00 - val_loss: 0.3585 - val_wine_quality_loss: 0.3381 - val_wine_type_loss: 0.0204 - val_wine_quality_root_mean_squared_error: 0.5815 - val_wine_type_accuracy: 0.0020\n",
      "Epoch 122/180\n",
      "3155/3155 [==============================] - 0s 95us/sample - loss: 0.2834 - wine_quality_loss: 0.2663 - wine_type_loss: 0.0182 - wine_quality_root_mean_squared_error: 0.5149 - wine_type_accuracy: 0.0000e+00 - val_loss: 0.3646 - val_wine_quality_loss: 0.3443 - val_wine_type_loss: 0.0203 - val_wine_quality_root_mean_squared_error: 0.5867 - val_wine_type_accuracy: 0.0020\n",
      "Epoch 123/180\n",
      "3155/3155 [==============================] - 0s 95us/sample - loss: 0.2818 - wine_quality_loss: 0.2633 - wine_type_loss: 0.0181 - wine_quality_root_mean_squared_error: 0.5134 - wine_type_accuracy: 0.0000e+00 - val_loss: 0.3656 - val_wine_quality_loss: 0.3454 - val_wine_type_loss: 0.0203 - val_wine_quality_root_mean_squared_error: 0.5876 - val_wine_type_accuracy: 0.0020\n",
      "Epoch 124/180\n",
      "3155/3155 [==============================] - 0s 96us/sample - loss: 0.2832 - wine_quality_loss: 0.2649 - wine_type_loss: 0.0180 - wine_quality_root_mean_squared_error: 0.5149 - wine_type_accuracy: 0.0000e+00 - val_loss: 0.3608 - val_wine_quality_loss: 0.3404 - val_wine_type_loss: 0.0202 - val_wine_quality_root_mean_squared_error: 0.5835 - val_wine_type_accuracy: 0.0020\n",
      "Epoch 125/180\n",
      "3155/3155 [==============================] - 0s 96us/sample - loss: 0.2830 - wine_quality_loss: 0.2651 - wine_type_loss: 0.0179 - wine_quality_root_mean_squared_error: 0.5148 - wine_type_accuracy: 0.0000e+00 - val_loss: 0.3585 - val_wine_quality_loss: 0.3382 - val_wine_type_loss: 0.0201 - val_wine_quality_root_mean_squared_error: 0.5816 - val_wine_type_accuracy: 0.0030\n",
      "Epoch 126/180\n",
      "3155/3155 [==============================] - 0s 97us/sample - loss: 0.2828 - wine_quality_loss: 0.2647 - wine_type_loss: 0.0179 - wine_quality_root_mean_squared_error: 0.5146 - wine_type_accuracy: 0.0000e+00 - val_loss: 0.3570 - val_wine_quality_loss: 0.3367 - val_wine_type_loss: 0.0201 - val_wine_quality_root_mean_squared_error: 0.5804 - val_wine_type_accuracy: 0.0030\n",
      "Epoch 127/180\n",
      "3155/3155 [==============================] - 0s 95us/sample - loss: 0.2819 - wine_quality_loss: 0.2645 - wine_type_loss: 0.0178 - wine_quality_root_mean_squared_error: 0.5139 - wine_type_accuracy: 0.0000e+00 - val_loss: 0.3559 - val_wine_quality_loss: 0.3358 - val_wine_type_loss: 0.0200 - val_wine_quality_root_mean_squared_error: 0.5795 - val_wine_type_accuracy: 0.0030\n",
      "Epoch 128/180\n",
      "3155/3155 [==============================] - 0s 110us/sample - loss: 0.2814 - wine_quality_loss: 0.2631 - wine_type_loss: 0.0177 - wine_quality_root_mean_squared_error: 0.5134 - wine_type_accuracy: 0.0000e+00 - val_loss: 0.3570 - val_wine_quality_loss: 0.3368 - val_wine_type_loss: 0.0200 - val_wine_quality_root_mean_squared_error: 0.5805 - val_wine_type_accuracy: 0.0030\n",
      "Epoch 129/180\n",
      "3155/3155 [==============================] - 0s 80us/sample - loss: 0.2800 - wine_quality_loss: 0.2626 - wine_type_loss: 0.0177 - wine_quality_root_mean_squared_error: 0.5121 - wine_type_accuracy: 0.0000e+00 - val_loss: 0.3661 - val_wine_quality_loss: 0.3460 - val_wine_type_loss: 0.0199 - val_wine_quality_root_mean_squared_error: 0.5883 - val_wine_type_accuracy: 0.0030\n",
      "Epoch 130/180\n",
      "3155/3155 [==============================] - 0s 94us/sample - loss: 0.2802 - wine_quality_loss: 0.2631 - wine_type_loss: 0.0176 - wine_quality_root_mean_squared_error: 0.5124 - wine_type_accuracy: 0.0000e+00 - val_loss: 0.3589 - val_wine_quality_loss: 0.3389 - val_wine_type_loss: 0.0198 - val_wine_quality_root_mean_squared_error: 0.5822 - val_wine_type_accuracy: 0.0030\n",
      "Epoch 131/180\n",
      "3155/3155 [==============================] - 0s 94us/sample - loss: 0.2796 - wine_quality_loss: 0.2616 - wine_type_loss: 0.0186 - wine_quality_root_mean_squared_error: 0.5119 - wine_type_accuracy: 0.0000e+00 - val_loss: 0.3608 - val_wine_quality_loss: 0.3408 - val_wine_type_loss: 0.0198 - val_wine_quality_root_mean_squared_error: 0.5840 - val_wine_type_accuracy: 0.0030\n",
      "Epoch 132/180\n",
      "3155/3155 [==============================] - 0s 95us/sample - loss: 0.2800 - wine_quality_loss: 0.2623 - wine_type_loss: 0.0174 - wine_quality_root_mean_squared_error: 0.5124 - wine_type_accuracy: 0.0000e+00 - val_loss: 0.3620 - val_wine_quality_loss: 0.3421 - val_wine_type_loss: 0.0197 - val_wine_quality_root_mean_squared_error: 0.5850 - val_wine_type_accuracy: 0.0030\n",
      "Epoch 133/180\n",
      "3155/3155 [==============================] - 0s 95us/sample - loss: 0.2786 - wine_quality_loss: 0.2614 - wine_type_loss: 0.0173 - wine_quality_root_mean_squared_error: 0.5111 - wine_type_accuracy: 0.0000e+00 - val_loss: 0.3569 - val_wine_quality_loss: 0.3371 - val_wine_type_loss: 0.0197 - val_wine_quality_root_mean_squared_error: 0.5807 - val_wine_type_accuracy: 0.0030\n",
      "Epoch 134/180\n",
      "3155/3155 [==============================] - 0s 94us/sample - loss: 0.2786 - wine_quality_loss: 0.2612 - wine_type_loss: 0.0172 - wine_quality_root_mean_squared_error: 0.5112 - wine_type_accuracy: 0.0000e+00 - val_loss: 0.3588 - val_wine_quality_loss: 0.3391 - val_wine_type_loss: 0.0196 - val_wine_quality_root_mean_squared_error: 0.5824 - val_wine_type_accuracy: 0.0030\n",
      "Epoch 135/180\n",
      "3155/3155 [==============================] - 0s 96us/sample - loss: 0.2780 - wine_quality_loss: 0.2611 - wine_type_loss: 0.0171 - wine_quality_root_mean_squared_error: 0.5107 - wine_type_accuracy: 0.0000e+00 - val_loss: 0.3622 - val_wine_quality_loss: 0.3426 - val_wine_type_loss: 0.0195 - val_wine_quality_root_mean_squared_error: 0.5853 - val_wine_type_accuracy: 0.0030\n",
      "Epoch 136/180\n",
      "3155/3155 [==============================] - 0s 94us/sample - loss: 0.2776 - wine_quality_loss: 0.2606 - wine_type_loss: 0.0171 - wine_quality_root_mean_squared_error: 0.5103 - wine_type_accuracy: 0.0000e+00 - val_loss: 0.3585 - val_wine_quality_loss: 0.3389 - val_wine_type_loss: 0.0195 - val_wine_quality_root_mean_squared_error: 0.5822 - val_wine_type_accuracy: 0.0030\n",
      "Epoch 137/180\n",
      "3155/3155 [==============================] - 0s 95us/sample - loss: 0.2772 - wine_quality_loss: 0.2605 - wine_type_loss: 0.0170 - wine_quality_root_mean_squared_error: 0.5100 - wine_type_accuracy: 3.1696e-04 - val_loss: 0.3555 - val_wine_quality_loss: 0.3357 - val_wine_type_loss: 0.0195 - val_wine_quality_root_mean_squared_error: 0.5796 - val_wine_type_accuracy: 0.0030\n",
      "Epoch 138/180\n",
      "3155/3155 [==============================] - 0s 94us/sample - loss: 0.2773 - wine_quality_loss: 0.2600 - wine_type_loss: 0.0169 - wine_quality_root_mean_squared_error: 0.5103 - wine_type_accuracy: 6.3391e-04 - val_loss: 0.3611 - val_wine_quality_loss: 0.3415 - val_wine_type_loss: 0.0194 - val_wine_quality_root_mean_squared_error: 0.5845 - val_wine_type_accuracy: 0.0030\n",
      "Epoch 139/180\n",
      "3155/3155 [==============================] - 0s 95us/sample - loss: 0.2772 - wine_quality_loss: 0.2605 - wine_type_loss: 0.0169 - wine_quality_root_mean_squared_error: 0.5102 - wine_type_accuracy: 3.1696e-04 - val_loss: 0.3569 - val_wine_quality_loss: 0.3374 - val_wine_type_loss: 0.0194 - val_wine_quality_root_mean_squared_error: 0.5809 - val_wine_type_accuracy: 0.0030\n",
      "Epoch 140/180\n",
      "3155/3155 [==============================] - 0s 96us/sample - loss: 0.2762 - wine_quality_loss: 0.2588 - wine_type_loss: 0.0168 - wine_quality_root_mean_squared_error: 0.5093 - wine_type_accuracy: 3.1696e-04 - val_loss: 0.3598 - val_wine_quality_loss: 0.3402 - val_wine_type_loss: 0.0193 - val_wine_quality_root_mean_squared_error: 0.5834 - val_wine_type_accuracy: 0.0030\n",
      "Epoch 141/180\n",
      "3155/3155 [==============================] - 0s 95us/sample - loss: 0.2750 - wine_quality_loss: 0.2586 - wine_type_loss: 0.0167 - wine_quality_root_mean_squared_error: 0.5081 - wine_type_accuracy: 9.5087e-04 - val_loss: 0.3553 - val_wine_quality_loss: 0.3358 - val_wine_type_loss: 0.0193 - val_wine_quality_root_mean_squared_error: 0.5796 - val_wine_type_accuracy: 0.0030\n",
      "Epoch 142/180\n",
      "3155/3155 [==============================] - 0s 94us/sample - loss: 0.2745 - wine_quality_loss: 0.2576 - wine_type_loss: 0.0169 - wine_quality_root_mean_squared_error: 0.5077 - wine_type_accuracy: 9.5087e-04 - val_loss: 0.3620 - val_wine_quality_loss: 0.3425 - val_wine_type_loss: 0.0192 - val_wine_quality_root_mean_squared_error: 0.5854 - val_wine_type_accuracy: 0.0030\n",
      "Epoch 143/180\n",
      "3155/3155 [==============================] - 0s 95us/sample - loss: 0.2750 - wine_quality_loss: 0.2587 - wine_type_loss: 0.0167 - wine_quality_root_mean_squared_error: 0.5083 - wine_type_accuracy: 6.3391e-04 - val_loss: 0.3635 - val_wine_quality_loss: 0.3442 - val_wine_type_loss: 0.0192 - val_wine_quality_root_mean_squared_error: 0.5867 - val_wine_type_accuracy: 0.0030\n",
      "Epoch 144/180\n",
      "3155/3155 [==============================] - 0s 94us/sample - loss: 0.2743 - wine_quality_loss: 0.2576 - wine_type_loss: 0.0164 - wine_quality_root_mean_squared_error: 0.5077 - wine_type_accuracy: 9.5087e-04 - val_loss: 0.3580 - val_wine_quality_loss: 0.3387 - val_wine_type_loss: 0.0192 - val_wine_quality_root_mean_squared_error: 0.5820 - val_wine_type_accuracy: 0.0030\n",
      "Epoch 145/180\n",
      "3155/3155 [==============================] - 0s 95us/sample - loss: 0.2739 - wine_quality_loss: 0.2571 - wine_type_loss: 0.0165 - wine_quality_root_mean_squared_error: 0.5072 - wine_type_accuracy: 6.3391e-04 - val_loss: 0.3564 - val_wine_quality_loss: 0.3372 - val_wine_type_loss: 0.0191 - val_wine_quality_root_mean_squared_error: 0.5807 - val_wine_type_accuracy: 0.0030\n",
      "Epoch 146/180\n",
      "3155/3155 [==============================] - 0s 94us/sample - loss: 0.2732 - wine_quality_loss: 0.2568 - wine_type_loss: 0.0164 - wine_quality_root_mean_squared_error: 0.5067 - wine_type_accuracy: 0.0013 - val_loss: 0.3578 - val_wine_quality_loss: 0.3386 - val_wine_type_loss: 0.0191 - val_wine_quality_root_mean_squared_error: 0.5819 - val_wine_type_accuracy: 0.0030\n",
      "Epoch 147/180\n",
      "3155/3155 [==============================] - 0s 93us/sample - loss: 0.2734 - wine_quality_loss: 0.2576 - wine_type_loss: 0.0163 - wine_quality_root_mean_squared_error: 0.5070 - wine_type_accuracy: 0.0013 - val_loss: 0.3631 - val_wine_quality_loss: 0.3440 - val_wine_type_loss: 0.0191 - val_wine_quality_root_mean_squared_error: 0.5865 - val_wine_type_accuracy: 0.0030\n",
      "Epoch 148/180\n",
      "3155/3155 [==============================] - 0s 94us/sample - loss: 0.2719 - wine_quality_loss: 0.2553 - wine_type_loss: 0.0163 - wine_quality_root_mean_squared_error: 0.5055 - wine_type_accuracy: 0.0013 - val_loss: 0.3595 - val_wine_quality_loss: 0.3405 - val_wine_type_loss: 0.0190 - val_wine_quality_root_mean_squared_error: 0.5835 - val_wine_type_accuracy: 0.0030\n",
      "Epoch 149/180\n",
      "3155/3155 [==============================] - 0s 93us/sample - loss: 0.2721 - wine_quality_loss: 0.2557 - wine_type_loss: 0.0162 - wine_quality_root_mean_squared_error: 0.5058 - wine_type_accuracy: 0.0013 - val_loss: 0.3677 - val_wine_quality_loss: 0.3487 - val_wine_type_loss: 0.0189 - val_wine_quality_root_mean_squared_error: 0.5905 - val_wine_type_accuracy: 0.0030\n",
      "Epoch 150/180\n",
      "3155/3155 [==============================] - 0s 94us/sample - loss: 0.2724 - wine_quality_loss: 0.2560 - wine_type_loss: 0.0162 - wine_quality_root_mean_squared_error: 0.5061 - wine_type_accuracy: 9.5087e-04 - val_loss: 0.3546 - val_wine_quality_loss: 0.3356 - val_wine_type_loss: 0.0189 - val_wine_quality_root_mean_squared_error: 0.5794 - val_wine_type_accuracy: 0.0030\n",
      "Epoch 151/180\n",
      "3155/3155 [==============================] - 0s 94us/sample - loss: 0.2718 - wine_quality_loss: 0.2553 - wine_type_loss: 0.0161 - wine_quality_root_mean_squared_error: 0.5057 - wine_type_accuracy: 0.0013 - val_loss: 0.3614 - val_wine_quality_loss: 0.3426 - val_wine_type_loss: 0.0188 - val_wine_quality_root_mean_squared_error: 0.5853 - val_wine_type_accuracy: 0.0030\n",
      "Epoch 152/180\n",
      "3155/3155 [==============================] - 0s 93us/sample - loss: 0.2710 - wine_quality_loss: 0.2548 - wine_type_loss: 0.0161 - wine_quality_root_mean_squared_error: 0.5049 - wine_type_accuracy: 0.0013 - val_loss: 0.3615 - val_wine_quality_loss: 0.3426 - val_wine_type_loss: 0.0188 - val_wine_quality_root_mean_squared_error: 0.5853 - val_wine_type_accuracy: 0.0030\n",
      "Epoch 153/180\n",
      "3155/3155 [==============================] - 0s 95us/sample - loss: 0.2704 - wine_quality_loss: 0.2541 - wine_type_loss: 0.0159 - wine_quality_root_mean_squared_error: 0.5044 - wine_type_accuracy: 0.0013 - val_loss: 0.3563 - val_wine_quality_loss: 0.3374 - val_wine_type_loss: 0.0187 - val_wine_quality_root_mean_squared_error: 0.5809 - val_wine_type_accuracy: 0.0030\n",
      "Epoch 154/180\n",
      "3155/3155 [==============================] - 0s 91us/sample - loss: 0.2711 - wine_quality_loss: 0.2557 - wine_type_loss: 0.0159 - wine_quality_root_mean_squared_error: 0.5052 - wine_type_accuracy: 0.0013 - val_loss: 0.3712 - val_wine_quality_loss: 0.3524 - val_wine_type_loss: 0.0187 - val_wine_quality_root_mean_squared_error: 0.5937 - val_wine_type_accuracy: 0.0030\n",
      "Epoch 155/180\n",
      "3155/3155 [==============================] - 0s 77us/sample - loss: 0.2689 - wine_quality_loss: 0.2531 - wine_type_loss: 0.0158 - wine_quality_root_mean_squared_error: 0.5031 - wine_type_accuracy: 0.0013 - val_loss: 0.3621 - val_wine_quality_loss: 0.3435 - val_wine_type_loss: 0.0186 - val_wine_quality_root_mean_squared_error: 0.5860 - val_wine_type_accuracy: 0.0030\n",
      "Epoch 156/180\n",
      "3155/3155 [==============================] - 0s 94us/sample - loss: 0.2696 - wine_quality_loss: 0.2541 - wine_type_loss: 0.0158 - wine_quality_root_mean_squared_error: 0.5038 - wine_type_accuracy: 0.0013 - val_loss: 0.3590 - val_wine_quality_loss: 0.3403 - val_wine_type_loss: 0.0186 - val_wine_quality_root_mean_squared_error: 0.5834 - val_wine_type_accuracy: 0.0030\n",
      "Epoch 157/180\n",
      "3155/3155 [==============================] - 0s 93us/sample - loss: 0.2686 - wine_quality_loss: 0.2527 - wine_type_loss: 0.0157 - wine_quality_root_mean_squared_error: 0.5029 - wine_type_accuracy: 0.0013 - val_loss: 0.3590 - val_wine_quality_loss: 0.3402 - val_wine_type_loss: 0.0186 - val_wine_quality_root_mean_squared_error: 0.5834 - val_wine_type_accuracy: 0.0030\n",
      "Epoch 158/180\n",
      "3155/3155 [==============================] - 0s 93us/sample - loss: 0.2679 - wine_quality_loss: 0.2522 - wine_type_loss: 0.0156 - wine_quality_root_mean_squared_error: 0.5022 - wine_type_accuracy: 0.0013 - val_loss: 0.3639 - val_wine_quality_loss: 0.3452 - val_wine_type_loss: 0.0185 - val_wine_quality_root_mean_squared_error: 0.5876 - val_wine_type_accuracy: 0.0030\n",
      "Epoch 159/180\n",
      "3155/3155 [==============================] - 0s 94us/sample - loss: 0.2680 - wine_quality_loss: 0.2532 - wine_type_loss: 0.0156 - wine_quality_root_mean_squared_error: 0.5024 - wine_type_accuracy: 0.0013 - val_loss: 0.3744 - val_wine_quality_loss: 0.3557 - val_wine_type_loss: 0.0185 - val_wine_quality_root_mean_squared_error: 0.5966 - val_wine_type_accuracy: 0.0030\n",
      "Epoch 160/180\n",
      "3155/3155 [==============================] - 0s 92us/sample - loss: 0.2677 - wine_quality_loss: 0.2522 - wine_type_loss: 0.0164 - wine_quality_root_mean_squared_error: 0.5022 - wine_type_accuracy: 0.0016 - val_loss: 0.3584 - val_wine_quality_loss: 0.3398 - val_wine_type_loss: 0.0184 - val_wine_quality_root_mean_squared_error: 0.5830 - val_wine_type_accuracy: 0.0030\n",
      "Epoch 161/180\n",
      "3155/3155 [==============================] - 0s 92us/sample - loss: 0.2679 - wine_quality_loss: 0.2525 - wine_type_loss: 0.0154 - wine_quality_root_mean_squared_error: 0.5024 - wine_type_accuracy: 0.0016 - val_loss: 0.3567 - val_wine_quality_loss: 0.3381 - val_wine_type_loss: 0.0184 - val_wine_quality_root_mean_squared_error: 0.5816 - val_wine_type_accuracy: 0.0030\n",
      "Epoch 162/180\n",
      "3155/3155 [==============================] - 0s 93us/sample - loss: 0.2664 - wine_quality_loss: 0.2513 - wine_type_loss: 0.0154 - wine_quality_root_mean_squared_error: 0.5010 - wine_type_accuracy: 0.0013 - val_loss: 0.3547 - val_wine_quality_loss: 0.3363 - val_wine_type_loss: 0.0183 - val_wine_quality_root_mean_squared_error: 0.5800 - val_wine_type_accuracy: 0.0041\n",
      "Epoch 163/180\n",
      "3155/3155 [==============================] - 0s 94us/sample - loss: 0.2669 - wine_quality_loss: 0.2518 - wine_type_loss: 0.0153 - wine_quality_root_mean_squared_error: 0.5016 - wine_type_accuracy: 0.0016 - val_loss: 0.3558 - val_wine_quality_loss: 0.3371 - val_wine_type_loss: 0.0183 - val_wine_quality_root_mean_squared_error: 0.5809 - val_wine_type_accuracy: 0.0041\n",
      "Epoch 164/180\n",
      "3155/3155 [==============================] - 0s 93us/sample - loss: 0.2665 - wine_quality_loss: 0.2513 - wine_type_loss: 0.0153 - wine_quality_root_mean_squared_error: 0.5012 - wine_type_accuracy: 0.0016 - val_loss: 0.3582 - val_wine_quality_loss: 0.3397 - val_wine_type_loss: 0.0183 - val_wine_quality_root_mean_squared_error: 0.5830 - val_wine_type_accuracy: 0.0041\n",
      "Epoch 165/180\n",
      "3155/3155 [==============================] - 0s 79us/sample - loss: 0.2663 - wine_quality_loss: 0.2511 - wine_type_loss: 0.0152 - wine_quality_root_mean_squared_error: 0.5011 - wine_type_accuracy: 0.0016 - val_loss: 0.3573 - val_wine_quality_loss: 0.3390 - val_wine_type_loss: 0.0182 - val_wine_quality_root_mean_squared_error: 0.5823 - val_wine_type_accuracy: 0.0041\n",
      "Epoch 166/180\n",
      "3155/3155 [==============================] - 0s 94us/sample - loss: 0.2663 - wine_quality_loss: 0.2507 - wine_type_loss: 0.0152 - wine_quality_root_mean_squared_error: 0.5011 - wine_type_accuracy: 0.0016 - val_loss: 0.3570 - val_wine_quality_loss: 0.3387 - val_wine_type_loss: 0.0182 - val_wine_quality_root_mean_squared_error: 0.5820 - val_wine_type_accuracy: 0.0041\n",
      "Epoch 167/180\n",
      "3155/3155 [==============================] - 0s 94us/sample - loss: 0.2646 - wine_quality_loss: 0.2496 - wine_type_loss: 0.0151 - wine_quality_root_mean_squared_error: 0.4994 - wine_type_accuracy: 0.0022 - val_loss: 0.3602 - val_wine_quality_loss: 0.3420 - val_wine_type_loss: 0.0182 - val_wine_quality_root_mean_squared_error: 0.5847 - val_wine_type_accuracy: 0.0041\n",
      "Epoch 168/180\n",
      "3155/3155 [==============================] - 0s 97us/sample - loss: 0.2649 - wine_quality_loss: 0.2501 - wine_type_loss: 0.0150 - wine_quality_root_mean_squared_error: 0.4998 - wine_type_accuracy: 0.0019 - val_loss: 0.3580 - val_wine_quality_loss: 0.3397 - val_wine_type_loss: 0.0181 - val_wine_quality_root_mean_squared_error: 0.5830 - val_wine_type_accuracy: 0.0041\n",
      "Epoch 169/180\n",
      "3155/3155 [==============================] - 0s 92us/sample - loss: 0.2640 - wine_quality_loss: 0.2488 - wine_type_loss: 0.0150 - wine_quality_root_mean_squared_error: 0.4989 - wine_type_accuracy: 0.0019 - val_loss: 0.3592 - val_wine_quality_loss: 0.3409 - val_wine_type_loss: 0.0181 - val_wine_quality_root_mean_squared_error: 0.5840 - val_wine_type_accuracy: 0.0041\n",
      "Epoch 170/180\n",
      "3155/3155 [==============================] - 0s 96us/sample - loss: 0.2645 - wine_quality_loss: 0.2499 - wine_type_loss: 0.0149 - wine_quality_root_mean_squared_error: 0.4996 - wine_type_accuracy: 0.0025 - val_loss: 0.3600 - val_wine_quality_loss: 0.3419 - val_wine_type_loss: 0.0181 - val_wine_quality_root_mean_squared_error: 0.5847 - val_wine_type_accuracy: 0.0041\n",
      "Epoch 171/180\n",
      "3155/3155 [==============================] - 0s 94us/sample - loss: 0.2628 - wine_quality_loss: 0.2479 - wine_type_loss: 0.0149 - wine_quality_root_mean_squared_error: 0.4979 - wine_type_accuracy: 0.0029 - val_loss: 0.3608 - val_wine_quality_loss: 0.3426 - val_wine_type_loss: 0.0180 - val_wine_quality_root_mean_squared_error: 0.5855 - val_wine_type_accuracy: 0.0041\n",
      "Epoch 172/180\n",
      "3155/3155 [==============================] - 0s 94us/sample - loss: 0.2634 - wine_quality_loss: 0.2486 - wine_type_loss: 0.0148 - wine_quality_root_mean_squared_error: 0.4985 - wine_type_accuracy: 0.0025 - val_loss: 0.3556 - val_wine_quality_loss: 0.3375 - val_wine_type_loss: 0.0179 - val_wine_quality_root_mean_squared_error: 0.5810 - val_wine_type_accuracy: 0.0041\n",
      "Epoch 173/180\n",
      "3155/3155 [==============================] - 0s 95us/sample - loss: 0.2633 - wine_quality_loss: 0.2483 - wine_type_loss: 0.0147 - wine_quality_root_mean_squared_error: 0.4986 - wine_type_accuracy: 0.0029 - val_loss: 0.3558 - val_wine_quality_loss: 0.3378 - val_wine_type_loss: 0.0179 - val_wine_quality_root_mean_squared_error: 0.5812 - val_wine_type_accuracy: 0.0041\n",
      "Epoch 174/180\n",
      "3155/3155 [==============================] - 0s 94us/sample - loss: 0.2626 - wine_quality_loss: 0.2473 - wine_type_loss: 0.0146 - wine_quality_root_mean_squared_error: 0.4979 - wine_type_accuracy: 0.0032 - val_loss: 0.3588 - val_wine_quality_loss: 0.3408 - val_wine_type_loss: 0.0179 - val_wine_quality_root_mean_squared_error: 0.5838 - val_wine_type_accuracy: 0.0041\n",
      "Epoch 175/180\n",
      "3155/3155 [==============================] - 0s 95us/sample - loss: 0.2621 - wine_quality_loss: 0.2472 - wine_type_loss: 0.0146 - wine_quality_root_mean_squared_error: 0.4975 - wine_type_accuracy: 0.0029 - val_loss: 0.3589 - val_wine_quality_loss: 0.3409 - val_wine_type_loss: 0.0179 - val_wine_quality_root_mean_squared_error: 0.5839 - val_wine_type_accuracy: 0.0041\n",
      "Epoch 176/180\n",
      "3155/3155 [==============================] - 0s 96us/sample - loss: 0.2618 - wine_quality_loss: 0.2469 - wine_type_loss: 0.0153 - wine_quality_root_mean_squared_error: 0.4973 - wine_type_accuracy: 0.0029 - val_loss: 0.3584 - val_wine_quality_loss: 0.3404 - val_wine_type_loss: 0.0178 - val_wine_quality_root_mean_squared_error: 0.5836 - val_wine_type_accuracy: 0.0041\n",
      "Epoch 177/180\n",
      "3155/3155 [==============================] - 0s 95us/sample - loss: 0.2604 - wine_quality_loss: 0.2455 - wine_type_loss: 0.0145 - wine_quality_root_mean_squared_error: 0.4959 - wine_type_accuracy: 0.0029 - val_loss: 0.3545 - val_wine_quality_loss: 0.3365 - val_wine_type_loss: 0.0177 - val_wine_quality_root_mean_squared_error: 0.5803 - val_wine_type_accuracy: 0.0041\n",
      "Epoch 178/180\n",
      "3155/3155 [==============================] - 0s 95us/sample - loss: 0.2617 - wine_quality_loss: 0.2474 - wine_type_loss: 0.0145 - wine_quality_root_mean_squared_error: 0.4972 - wine_type_accuracy: 0.0029 - val_loss: 0.3593 - val_wine_quality_loss: 0.3414 - val_wine_type_loss: 0.0177 - val_wine_quality_root_mean_squared_error: 0.5844 - val_wine_type_accuracy: 0.0041\n",
      "Epoch 179/180\n",
      "3155/3155 [==============================] - 0s 96us/sample - loss: 0.2606 - wine_quality_loss: 0.2462 - wine_type_loss: 0.0144 - wine_quality_root_mean_squared_error: 0.4962 - wine_type_accuracy: 0.0035 - val_loss: 0.3613 - val_wine_quality_loss: 0.3435 - val_wine_type_loss: 0.0177 - val_wine_quality_root_mean_squared_error: 0.5861 - val_wine_type_accuracy: 0.0041\n",
      "Epoch 180/180\n",
      "3155/3155 [==============================] - 0s 94us/sample - loss: 0.2615 - wine_quality_loss: 0.2476 - wine_type_loss: 0.0143 - wine_quality_root_mean_squared_error: 0.4971 - wine_type_accuracy: 0.0035 - val_loss: 0.3676 - val_wine_quality_loss: 0.3497 - val_wine_type_loss: 0.0176 - val_wine_quality_root_mean_squared_error: 0.5915 - val_wine_type_accuracy: 0.0041\n"
     ]
    }
   ],
   "source": [
    "## Please uncomment all lines in this cell and replace those marked with `# YOUR CODE HERE`.\n",
    "# You can select all lines in this code cell with Ctrl+A (Windows/Linux) or Cmd+A (Mac), then press Ctrl+/ (Windows/Linux) or Cmd+/ (Mac) to uncomment.\n",
    "\n",
    "\n",
    "\n",
    "history = model.fit(norm_train_X, train_Y, epochs = 180, validation_data=(norm_test_X, test_Y))"
   ]
  },
  {
   "cell_type": "code",
   "execution_count": 40,
   "metadata": {
    "deletable": false,
    "editable": false,
    "nbgrader": {
     "cell_type": "code",
     "checksum": "fadad8896eda9c8c2115970724b15508",
     "grade": true,
     "grade_id": "cell-eb4d5b41bef8f0ab",
     "locked": true,
     "points": 1,
     "schema_version": 3,
     "solution": false,
     "task": false
    }
   },
   "outputs": [
    {
     "name": "stdout",
     "output_type": "stream",
     "text": [
      "\u001b[92m All public tests passed\n"
     ]
    }
   ],
   "source": [
    "utils.test_history(history)"
   ]
  },
  {
   "cell_type": "code",
   "execution_count": 41,
   "metadata": {
    "colab": {},
    "colab_type": "code",
    "id": "CubF2J2gSf6q"
   },
   "outputs": [
    {
     "name": "stdout",
     "output_type": "stream",
     "text": [
      "789/789 [==============================] - 0s 23us/sample - loss: 0.3419 - wine_quality_loss: 0.3150 - wine_type_loss: 0.0260 - wine_quality_root_mean_squared_error: 0.5618 - wine_type_accuracy: 0.0013\n",
      "\n",
      "loss: 0.34191192072758353\n",
      "wine_quality_loss: 0.31500035524368286\n",
      "wine_type_loss: 0.025983138009905815\n",
      "wine_quality_rmse: 0.561775267124176\n",
      "wine_type_accuracy: 0.0012674271129071712\n"
     ]
    }
   ],
   "source": [
    "# Gather the training metrics\n",
    "loss, wine_quality_loss, wine_type_loss, wine_quality_rmse, wine_type_accuracy = model.evaluate(x=norm_val_X, y=val_Y)\n",
    "\n",
    "print()\n",
    "print(f'loss: {loss}')\n",
    "print(f'wine_quality_loss: {wine_quality_loss}')\n",
    "print(f'wine_type_loss: {wine_type_loss}')\n",
    "print(f'wine_quality_rmse: {wine_quality_rmse}')\n",
    "print(f'wine_type_accuracy: {wine_type_accuracy}')\n",
    "\n",
    "# EXPECTED VALUES\n",
    "# ~ 0.30 - 0.38\n",
    "# ~ 0.30 - 0.38\n",
    "# ~ 0.018 - 0.030\n",
    "# ~ 0.50 - 0.62\n",
    "# ~ 0.97 - 1.0\n",
    "\n",
    "# Example:\n",
    "#0.3657050132751465\n",
    "#0.3463745415210724\n",
    "#0.019330406561493874\n",
    "#0.5885359048843384\n",
    "#0.9974651336669922"
   ]
  },
  {
   "cell_type": "markdown",
   "metadata": {
    "colab_type": "text",
    "id": "gPtTGAP4usnm"
   },
   "source": [
    "## Analyze the Model Performance\n",
    "\n",
    "Note that the model has two outputs. The output at index 0 is quality and index 1 is wine type\n",
    "\n",
    "So, round the quality predictions to the nearest integer."
   ]
  },
  {
   "cell_type": "code",
   "execution_count": 42,
   "metadata": {
    "colab": {},
    "colab_type": "code",
    "id": "tBq9PEeAaW-Y"
   },
   "outputs": [],
   "source": [
    "predictions = model.predict(norm_test_X)\n",
    "quality_pred = predictions[0]\n",
    "type_pred = predictions[1]"
   ]
  },
  {
   "cell_type": "code",
   "execution_count": 43,
   "metadata": {
    "colab": {},
    "colab_type": "code",
    "id": "YLhgTR4xTIxj"
   },
   "outputs": [
    {
     "name": "stdout",
     "output_type": "stream",
     "text": [
      "[5.6748466]\n"
     ]
    }
   ],
   "source": [
    "print(quality_pred[0])\n",
    "\n",
    "# EXPECTED OUTPUT\n",
    "# 5.6 - 6.0"
   ]
  },
  {
   "cell_type": "code",
   "execution_count": 44,
   "metadata": {
    "colab": {},
    "colab_type": "code",
    "id": "MPi-eYfGTUXi"
   },
   "outputs": [
    {
     "name": "stdout",
     "output_type": "stream",
     "text": [
      "[0.00050939]\n",
      "[0.9999927]\n"
     ]
    }
   ],
   "source": [
    "print(type_pred[0])\n",
    "print(type_pred[944])\n",
    "\n",
    "# EXPECTED OUTPUT\n",
    "# A number close to zero\n",
    "# A number close to or equal to 1"
   ]
  },
  {
   "cell_type": "markdown",
   "metadata": {
    "colab_type": "text",
    "id": "Kohk-9C6vt_s"
   },
   "source": [
    "### Plot Utilities\n",
    "\n",
    "We define a few utilities to visualize the model performance."
   ]
  },
  {
   "cell_type": "code",
   "execution_count": 45,
   "metadata": {
    "colab": {},
    "colab_type": "code",
    "id": "62gEOFUhn6aQ"
   },
   "outputs": [],
   "source": [
    "def plot_metrics(metric_name, title, ylim=5):\n",
    "    plt.title(title)\n",
    "    plt.ylim(0,ylim)\n",
    "    plt.plot(history.history[metric_name],color='blue',label=metric_name)\n",
    "    plt.plot(history.history['val_' + metric_name],color='green',label='val_' + metric_name)\n"
   ]
  },
  {
   "cell_type": "code",
   "execution_count": 46,
   "metadata": {
    "colab": {},
    "colab_type": "code",
    "id": "6rfgSx7uz5dj"
   },
   "outputs": [],
   "source": [
    "def plot_confusion_matrix(y_true, y_pred, title='', labels=[0,1]):\n",
    "    cm = confusion_matrix(y_true, y_pred)\n",
    "    fig = plt.figure()\n",
    "    ax = fig.add_subplot(111)\n",
    "    cax = ax.matshow(cm)\n",
    "    plt.title('Confusion matrix of the classifier')\n",
    "    fig.colorbar(cax)\n",
    "    ax.set_xticklabels([''] + labels)\n",
    "    ax.set_yticklabels([''] + labels)\n",
    "    plt.xlabel('Predicted')\n",
    "    plt.ylabel('True')\n",
    "    fmt = 'd'\n",
    "    thresh = cm.max() / 2.\n",
    "    for i, j in itertools.product(range(cm.shape[0]), range(cm.shape[1])):\n",
    "          plt.text(j, i, format(cm[i, j], fmt),\n",
    "                  horizontalalignment=\"center\",\n",
    "                  color=\"black\" if cm[i, j] > thresh else \"white\")\n",
    "    plt.show()"
   ]
  },
  {
   "cell_type": "code",
   "execution_count": 47,
   "metadata": {
    "colab": {},
    "colab_type": "code",
    "id": "dfVLIqi017Vf"
   },
   "outputs": [],
   "source": [
    "def plot_diff(y_true, y_pred, title = '' ):\n",
    "    plt.scatter(y_true, y_pred)\n",
    "    plt.title(title)\n",
    "    plt.xlabel('True Values')\n",
    "    plt.ylabel('Predictions')\n",
    "    plt.axis('equal')\n",
    "    plt.axis('square')\n",
    "    plt.plot([-100, 100], [-100, 100])\n",
    "    return plt"
   ]
  },
  {
   "cell_type": "markdown",
   "metadata": {
    "colab_type": "text",
    "id": "8sd1jdFbwE0I"
   },
   "source": [
    "### Plots for Metrics"
   ]
  },
  {
   "cell_type": "code",
   "execution_count": 48,
   "metadata": {
    "colab": {},
    "colab_type": "code",
    "id": "f3MwZ5J1pOfj"
   },
   "outputs": [
    {
     "data": {
      "image/png": "[encoded data removed]",
      "text/plain": [
       "<Figure size 432x288 with 1 Axes>"
      ]
     },
     "metadata": {
      "needs_background": "light"
     },
     "output_type": "display_data"
    }
   ],
   "source": [
    "plot_metrics('wine_quality_root_mean_squared_error', 'RMSE', ylim=2)"
   ]
  },
  {
   "cell_type": "code",
   "execution_count": 49,
   "metadata": {
    "colab": {},
    "colab_type": "code",
    "id": "QIAxEezCppnd"
   },
   "outputs": [
    {
     "data": {
      "image/png": "[encoded data removed]",
      "text/plain": [
       "<Figure size 432x288 with 1 Axes>"
      ]
     },
     "metadata": {
      "needs_background": "light"
     },
     "output_type": "display_data"
    }
   ],
   "source": [
    "plot_metrics('wine_type_loss', 'Wine Type Loss', ylim=0.2)"
   ]
  },
  {
   "cell_type": "markdown",
   "metadata": {
    "colab_type": "text",
    "id": "uYV9AOAMwI9p"
   },
   "source": [
    "### Plots for Confusion Matrix\n",
    "\n",
    "Plot the confusion matrices for wine type. You can see that the model performs well for prediction of wine type from the confusion matrix and the loss metrics."
   ]
  },
  {
   "cell_type": "code",
   "execution_count": 50,
   "metadata": {
    "colab": {},
    "colab_type": "code",
    "id": "C3hvTYxIaf3n"
   },
   "outputs": [
    {
     "data": {
      "image/png": "[encoded data removed]",
      "text/plain": [
       "<Figure size 432x288 with 2 Axes>"
      ]
     },
     "metadata": {
      "needs_background": "light"
     },
     "output_type": "display_data"
    }
   ],
   "source": [
    "plot_confusion_matrix(test_Y[1], np.round(type_pred), title='Wine Type', labels = [0, 1])"
   ]
  },
  {
   "cell_type": "code",
   "execution_count": 51,
   "metadata": {
    "colab": {},
    "colab_type": "code",
    "id": "GW91ym8P2I5y"
   },
   "outputs": [
    {
     "data": {
      "image/png": "[encoded data removed]",
      "text/plain": [
       "<Figure size 432x288 with 1 Axes>"
      ]
     },
     "metadata": {
      "needs_background": "light"
     },
     "output_type": "display_data"
    }
   ],
   "source": [
    "scatter_plot = plot_diff(test_Y[0], quality_pred, title='Type')"
   ]
  },
  {
   "cell_type": "code",
   "execution_count": null,
   "metadata": {},
   "outputs": [],
   "source": []
  }
 ],
 "metadata": {
  "colab": {
   "include_colab_link": true,
   "name": "exercise-answer.ipynb",
   "provenance": []
  },
  "kernelspec": {
   "display_name": "Python 3",
   "language": "python",
   "name": "python3"
  },
  "language_info": {
   "codemirror_mode": {
    "name": "ipython",
    "version": 3
   },
   "file_extension": ".py",
   "mimetype": "text/x-python",
   "name": "python",
   "nbconvert_exporter": "python",
   "pygments_lexer": "ipython3",
   "version": "3.7.6"
  }
 },
 "nbformat": 4,
 "nbformat_minor": 4
}
